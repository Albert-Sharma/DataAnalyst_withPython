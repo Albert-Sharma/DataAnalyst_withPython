{
 "cells": [
  {
   "cell_type": "markdown",
   "id": "185284da",
   "metadata": {},
   "source": [
    "## Question 1:\n",
    "\n",
    "Create a DataFrame with information about students, including columns for 'Name', 'Age', 'Grade',\n",
    "and 'City'. Perform the following operations:\n",
    "Add a new column 'Gender' with values 'Male' or 'Female'.\n",
    "Filter the DataFrame to include only students from a specific city.\n",
    "Calculate the average age of students."
   ]
  },
  {
   "cell_type": "code",
   "execution_count": 33,
   "id": "57637686",
   "metadata": {},
   "outputs": [],
   "source": [
    "import pandas as pd\n",
    "import numpy as np\n",
    "import matplotlib.pyplot as plt"
   ]
  },
  {
   "cell_type": "code",
   "execution_count": 5,
   "id": "f8f6b6c5",
   "metadata": {},
   "outputs": [],
   "source": [
    "# Dataframe\n",
    "data = {\n",
    "    'Name' :['Albert','Arjun','laukik','Abhimanyu','Maharishi'],\n",
    "    'Age':[55,45,50,60,40],\n",
    "    'Grade':[10,9,10,9,10],\n",
    "    'City':['Bilaspur','New Delhi','Pune','Jaipur','Bhopal']\n",
    "}\n",
    "\n",
    "df= pd.DataFrame(data)"
   ]
  },
  {
   "cell_type": "code",
   "execution_count": 7,
   "id": "8701f5d3",
   "metadata": {},
   "outputs": [
    {
     "data": {
      "text/html": [
       "<div>\n",
       "<style scoped>\n",
       "    .dataframe tbody tr th:only-of-type {\n",
       "        vertical-align: middle;\n",
       "    }\n",
       "\n",
       "    .dataframe tbody tr th {\n",
       "        vertical-align: top;\n",
       "    }\n",
       "\n",
       "    .dataframe thead th {\n",
       "        text-align: right;\n",
       "    }\n",
       "</style>\n",
       "<table border=\"1\" class=\"dataframe\">\n",
       "  <thead>\n",
       "    <tr style=\"text-align: right;\">\n",
       "      <th></th>\n",
       "      <th>Name</th>\n",
       "      <th>Age</th>\n",
       "      <th>Grade</th>\n",
       "      <th>City</th>\n",
       "    </tr>\n",
       "  </thead>\n",
       "  <tbody>\n",
       "    <tr>\n",
       "      <th>0</th>\n",
       "      <td>Albert</td>\n",
       "      <td>55</td>\n",
       "      <td>10</td>\n",
       "      <td>Bilaspur</td>\n",
       "    </tr>\n",
       "    <tr>\n",
       "      <th>1</th>\n",
       "      <td>Arjun</td>\n",
       "      <td>45</td>\n",
       "      <td>9</td>\n",
       "      <td>New Delhi</td>\n",
       "    </tr>\n",
       "    <tr>\n",
       "      <th>2</th>\n",
       "      <td>laukik</td>\n",
       "      <td>50</td>\n",
       "      <td>10</td>\n",
       "      <td>Pune</td>\n",
       "    </tr>\n",
       "    <tr>\n",
       "      <th>3</th>\n",
       "      <td>Abhimanyu</td>\n",
       "      <td>60</td>\n",
       "      <td>9</td>\n",
       "      <td>Jaipur</td>\n",
       "    </tr>\n",
       "    <tr>\n",
       "      <th>4</th>\n",
       "      <td>Maharishi</td>\n",
       "      <td>40</td>\n",
       "      <td>10</td>\n",
       "      <td>Bhopal</td>\n",
       "    </tr>\n",
       "  </tbody>\n",
       "</table>\n",
       "</div>"
      ],
      "text/plain": [
       "        Name  Age  Grade       City\n",
       "0     Albert   55     10   Bilaspur\n",
       "1      Arjun   45      9  New Delhi\n",
       "2     laukik   50     10       Pune\n",
       "3  Abhimanyu   60      9     Jaipur\n",
       "4  Maharishi   40     10     Bhopal"
      ]
     },
     "execution_count": 7,
     "metadata": {},
     "output_type": "execute_result"
    }
   ],
   "source": [
    "df.head()"
   ]
  },
  {
   "cell_type": "code",
   "execution_count": 8,
   "id": "23a235cd",
   "metadata": {},
   "outputs": [],
   "source": [
    "#New column : Gender\n",
    "df['Gender'] = ['Male', 'Male', 'Male', 'Male','Male']"
   ]
  },
  {
   "cell_type": "code",
   "execution_count": 9,
   "id": "63728e69",
   "metadata": {},
   "outputs": [
    {
     "data": {
      "text/html": [
       "<div>\n",
       "<style scoped>\n",
       "    .dataframe tbody tr th:only-of-type {\n",
       "        vertical-align: middle;\n",
       "    }\n",
       "\n",
       "    .dataframe tbody tr th {\n",
       "        vertical-align: top;\n",
       "    }\n",
       "\n",
       "    .dataframe thead th {\n",
       "        text-align: right;\n",
       "    }\n",
       "</style>\n",
       "<table border=\"1\" class=\"dataframe\">\n",
       "  <thead>\n",
       "    <tr style=\"text-align: right;\">\n",
       "      <th></th>\n",
       "      <th>Name</th>\n",
       "      <th>Age</th>\n",
       "      <th>Grade</th>\n",
       "      <th>City</th>\n",
       "      <th>Gender</th>\n",
       "    </tr>\n",
       "  </thead>\n",
       "  <tbody>\n",
       "    <tr>\n",
       "      <th>0</th>\n",
       "      <td>Albert</td>\n",
       "      <td>55</td>\n",
       "      <td>10</td>\n",
       "      <td>Bilaspur</td>\n",
       "      <td>Male</td>\n",
       "    </tr>\n",
       "    <tr>\n",
       "      <th>1</th>\n",
       "      <td>Arjun</td>\n",
       "      <td>45</td>\n",
       "      <td>9</td>\n",
       "      <td>New Delhi</td>\n",
       "      <td>Male</td>\n",
       "    </tr>\n",
       "    <tr>\n",
       "      <th>2</th>\n",
       "      <td>laukik</td>\n",
       "      <td>50</td>\n",
       "      <td>10</td>\n",
       "      <td>Pune</td>\n",
       "      <td>Male</td>\n",
       "    </tr>\n",
       "    <tr>\n",
       "      <th>3</th>\n",
       "      <td>Abhimanyu</td>\n",
       "      <td>60</td>\n",
       "      <td>9</td>\n",
       "      <td>Jaipur</td>\n",
       "      <td>Male</td>\n",
       "    </tr>\n",
       "    <tr>\n",
       "      <th>4</th>\n",
       "      <td>Maharishi</td>\n",
       "      <td>40</td>\n",
       "      <td>10</td>\n",
       "      <td>Bhopal</td>\n",
       "      <td>Male</td>\n",
       "    </tr>\n",
       "  </tbody>\n",
       "</table>\n",
       "</div>"
      ],
      "text/plain": [
       "        Name  Age  Grade       City Gender\n",
       "0     Albert   55     10   Bilaspur   Male\n",
       "1      Arjun   45      9  New Delhi   Male\n",
       "2     laukik   50     10       Pune   Male\n",
       "3  Abhimanyu   60      9     Jaipur   Male\n",
       "4  Maharishi   40     10     Bhopal   Male"
      ]
     },
     "execution_count": 9,
     "metadata": {},
     "output_type": "execute_result"
    }
   ],
   "source": [
    "df.head()"
   ]
  },
  {
   "cell_type": "code",
   "execution_count": 11,
   "id": "6ea7f528",
   "metadata": {},
   "outputs": [
    {
     "name": "stdout",
     "output_type": "stream",
     "text": [
      "     Name  Age  Grade      City Gender\n",
      "0  Albert   55     10  Bilaspur   Male\n"
     ]
    }
   ],
   "source": [
    "# Students from specific city\n",
    "specific_city = 'Bilaspur'\n",
    "filtered_df = df[df['City'] == specific_city]\n",
    "print(filtered_df)"
   ]
  },
  {
   "cell_type": "code",
   "execution_count": 12,
   "id": "628db0fd",
   "metadata": {},
   "outputs": [
    {
     "name": "stdout",
     "output_type": "stream",
     "text": [
      "50.0\n"
     ]
    }
   ],
   "source": [
    "# Average age of student\n",
    "average_age = df['Age'].mean()\n",
    "print(average_age)"
   ]
  },
  {
   "cell_type": "markdown",
   "id": "db1713ca",
   "metadata": {},
   "source": [
    "## Question 2:\n",
    "Given a DataFrame with missing values in the 'Salary' column, apply appropriate techniques to handle\n",
    "missing data. Discuss the rationale behind the chosen method. Additionally, remove duplicate rows if any, and\n",
    "explain how this improves data quality."
   ]
  },
  {
   "cell_type": "code",
   "execution_count": 14,
   "id": "72855cb3",
   "metadata": {},
   "outputs": [
    {
     "data": {
      "text/html": [
       "<div>\n",
       "<style scoped>\n",
       "    .dataframe tbody tr th:only-of-type {\n",
       "        vertical-align: middle;\n",
       "    }\n",
       "\n",
       "    .dataframe tbody tr th {\n",
       "        vertical-align: top;\n",
       "    }\n",
       "\n",
       "    .dataframe thead th {\n",
       "        text-align: right;\n",
       "    }\n",
       "</style>\n",
       "<table border=\"1\" class=\"dataframe\">\n",
       "  <thead>\n",
       "    <tr style=\"text-align: right;\">\n",
       "      <th></th>\n",
       "      <th>Name</th>\n",
       "      <th>Age</th>\n",
       "      <th>Grade</th>\n",
       "      <th>City</th>\n",
       "      <th>Gender</th>\n",
       "    </tr>\n",
       "  </thead>\n",
       "  <tbody>\n",
       "    <tr>\n",
       "      <th>0</th>\n",
       "      <td>Albert</td>\n",
       "      <td>55</td>\n",
       "      <td>10</td>\n",
       "      <td>Bilaspur</td>\n",
       "      <td>Male</td>\n",
       "    </tr>\n",
       "    <tr>\n",
       "      <th>1</th>\n",
       "      <td>Arjun</td>\n",
       "      <td>45</td>\n",
       "      <td>9</td>\n",
       "      <td>New Delhi</td>\n",
       "      <td>Male</td>\n",
       "    </tr>\n",
       "    <tr>\n",
       "      <th>2</th>\n",
       "      <td>laukik</td>\n",
       "      <td>50</td>\n",
       "      <td>10</td>\n",
       "      <td>Pune</td>\n",
       "      <td>Male</td>\n",
       "    </tr>\n",
       "    <tr>\n",
       "      <th>3</th>\n",
       "      <td>Abhimanyu</td>\n",
       "      <td>60</td>\n",
       "      <td>9</td>\n",
       "      <td>Jaipur</td>\n",
       "      <td>Male</td>\n",
       "    </tr>\n",
       "    <tr>\n",
       "      <th>4</th>\n",
       "      <td>Maharishi</td>\n",
       "      <td>40</td>\n",
       "      <td>10</td>\n",
       "      <td>Bhopal</td>\n",
       "      <td>Male</td>\n",
       "    </tr>\n",
       "  </tbody>\n",
       "</table>\n",
       "</div>"
      ],
      "text/plain": [
       "        Name  Age  Grade       City Gender\n",
       "0     Albert   55     10   Bilaspur   Male\n",
       "1      Arjun   45      9  New Delhi   Male\n",
       "2     laukik   50     10       Pune   Male\n",
       "3  Abhimanyu   60      9     Jaipur   Male\n",
       "4  Maharishi   40     10     Bhopal   Male"
      ]
     },
     "execution_count": 14,
     "metadata": {},
     "output_type": "execute_result"
    }
   ],
   "source": [
    "df.head()"
   ]
  },
  {
   "cell_type": "code",
   "execution_count": 15,
   "id": "42f1b0aa",
   "metadata": {},
   "outputs": [],
   "source": [
    "df['Salary'] = [50000, None, 60000, None, 25000]"
   ]
  },
  {
   "cell_type": "code",
   "execution_count": 16,
   "id": "ef6f7edb",
   "metadata": {},
   "outputs": [
    {
     "data": {
      "text/html": [
       "<div>\n",
       "<style scoped>\n",
       "    .dataframe tbody tr th:only-of-type {\n",
       "        vertical-align: middle;\n",
       "    }\n",
       "\n",
       "    .dataframe tbody tr th {\n",
       "        vertical-align: top;\n",
       "    }\n",
       "\n",
       "    .dataframe thead th {\n",
       "        text-align: right;\n",
       "    }\n",
       "</style>\n",
       "<table border=\"1\" class=\"dataframe\">\n",
       "  <thead>\n",
       "    <tr style=\"text-align: right;\">\n",
       "      <th></th>\n",
       "      <th>Name</th>\n",
       "      <th>Age</th>\n",
       "      <th>Grade</th>\n",
       "      <th>City</th>\n",
       "      <th>Gender</th>\n",
       "      <th>Salary</th>\n",
       "    </tr>\n",
       "  </thead>\n",
       "  <tbody>\n",
       "    <tr>\n",
       "      <th>0</th>\n",
       "      <td>Albert</td>\n",
       "      <td>55</td>\n",
       "      <td>10</td>\n",
       "      <td>Bilaspur</td>\n",
       "      <td>Male</td>\n",
       "      <td>50000.0</td>\n",
       "    </tr>\n",
       "    <tr>\n",
       "      <th>1</th>\n",
       "      <td>Arjun</td>\n",
       "      <td>45</td>\n",
       "      <td>9</td>\n",
       "      <td>New Delhi</td>\n",
       "      <td>Male</td>\n",
       "      <td>NaN</td>\n",
       "    </tr>\n",
       "    <tr>\n",
       "      <th>2</th>\n",
       "      <td>laukik</td>\n",
       "      <td>50</td>\n",
       "      <td>10</td>\n",
       "      <td>Pune</td>\n",
       "      <td>Male</td>\n",
       "      <td>60000.0</td>\n",
       "    </tr>\n",
       "    <tr>\n",
       "      <th>3</th>\n",
       "      <td>Abhimanyu</td>\n",
       "      <td>60</td>\n",
       "      <td>9</td>\n",
       "      <td>Jaipur</td>\n",
       "      <td>Male</td>\n",
       "      <td>NaN</td>\n",
       "    </tr>\n",
       "    <tr>\n",
       "      <th>4</th>\n",
       "      <td>Maharishi</td>\n",
       "      <td>40</td>\n",
       "      <td>10</td>\n",
       "      <td>Bhopal</td>\n",
       "      <td>Male</td>\n",
       "      <td>25000.0</td>\n",
       "    </tr>\n",
       "  </tbody>\n",
       "</table>\n",
       "</div>"
      ],
      "text/plain": [
       "        Name  Age  Grade       City Gender   Salary\n",
       "0     Albert   55     10   Bilaspur   Male  50000.0\n",
       "1      Arjun   45      9  New Delhi   Male      NaN\n",
       "2     laukik   50     10       Pune   Male  60000.0\n",
       "3  Abhimanyu   60      9     Jaipur   Male      NaN\n",
       "4  Maharishi   40     10     Bhopal   Male  25000.0"
      ]
     },
     "execution_count": 16,
     "metadata": {},
     "output_type": "execute_result"
    }
   ],
   "source": [
    "df.head()"
   ]
  },
  {
   "cell_type": "code",
   "execution_count": 21,
   "id": "09168732",
   "metadata": {},
   "outputs": [],
   "source": [
    "# Filling missing values With mean\n",
    "''' \n",
    "Reason:\n",
    "Becasue the Sallary will be almost same as they are of some what same age and \n",
    "the the category of input in Salary is integer based.\n",
    "'''\n",
    "df['Salary'].fillna(df['Salary'].mean(), inplace=True)"
   ]
  },
  {
   "cell_type": "code",
   "execution_count": 22,
   "id": "f4f3f5d3",
   "metadata": {},
   "outputs": [
    {
     "data": {
      "text/html": [
       "<div>\n",
       "<style scoped>\n",
       "    .dataframe tbody tr th:only-of-type {\n",
       "        vertical-align: middle;\n",
       "    }\n",
       "\n",
       "    .dataframe tbody tr th {\n",
       "        vertical-align: top;\n",
       "    }\n",
       "\n",
       "    .dataframe thead th {\n",
       "        text-align: right;\n",
       "    }\n",
       "</style>\n",
       "<table border=\"1\" class=\"dataframe\">\n",
       "  <thead>\n",
       "    <tr style=\"text-align: right;\">\n",
       "      <th></th>\n",
       "      <th>Name</th>\n",
       "      <th>Age</th>\n",
       "      <th>Grade</th>\n",
       "      <th>City</th>\n",
       "      <th>Gender</th>\n",
       "      <th>Salary</th>\n",
       "    </tr>\n",
       "  </thead>\n",
       "  <tbody>\n",
       "    <tr>\n",
       "      <th>0</th>\n",
       "      <td>Albert</td>\n",
       "      <td>55</td>\n",
       "      <td>10</td>\n",
       "      <td>Bilaspur</td>\n",
       "      <td>Male</td>\n",
       "      <td>50000.0</td>\n",
       "    </tr>\n",
       "    <tr>\n",
       "      <th>1</th>\n",
       "      <td>Arjun</td>\n",
       "      <td>45</td>\n",
       "      <td>9</td>\n",
       "      <td>New Delhi</td>\n",
       "      <td>Male</td>\n",
       "      <td>45000.0</td>\n",
       "    </tr>\n",
       "    <tr>\n",
       "      <th>2</th>\n",
       "      <td>laukik</td>\n",
       "      <td>50</td>\n",
       "      <td>10</td>\n",
       "      <td>Pune</td>\n",
       "      <td>Male</td>\n",
       "      <td>60000.0</td>\n",
       "    </tr>\n",
       "    <tr>\n",
       "      <th>3</th>\n",
       "      <td>Abhimanyu</td>\n",
       "      <td>60</td>\n",
       "      <td>9</td>\n",
       "      <td>Jaipur</td>\n",
       "      <td>Male</td>\n",
       "      <td>45000.0</td>\n",
       "    </tr>\n",
       "    <tr>\n",
       "      <th>4</th>\n",
       "      <td>Maharishi</td>\n",
       "      <td>40</td>\n",
       "      <td>10</td>\n",
       "      <td>Bhopal</td>\n",
       "      <td>Male</td>\n",
       "      <td>25000.0</td>\n",
       "    </tr>\n",
       "  </tbody>\n",
       "</table>\n",
       "</div>"
      ],
      "text/plain": [
       "        Name  Age  Grade       City Gender   Salary\n",
       "0     Albert   55     10   Bilaspur   Male  50000.0\n",
       "1      Arjun   45      9  New Delhi   Male  45000.0\n",
       "2     laukik   50     10       Pune   Male  60000.0\n",
       "3  Abhimanyu   60      9     Jaipur   Male  45000.0\n",
       "4  Maharishi   40     10     Bhopal   Male  25000.0"
      ]
     },
     "execution_count": 22,
     "metadata": {},
     "output_type": "execute_result"
    }
   ],
   "source": [
    "df.head()"
   ]
  },
  {
   "cell_type": "code",
   "execution_count": 23,
   "id": "909187f1",
   "metadata": {},
   "outputs": [],
   "source": [
    "# removing duplicate rows\n",
    "df.drop_duplicates(inplace=True)"
   ]
  },
  {
   "cell_type": "code",
   "execution_count": 24,
   "id": "bc907c6e",
   "metadata": {},
   "outputs": [
    {
     "data": {
      "text/html": [
       "<div>\n",
       "<style scoped>\n",
       "    .dataframe tbody tr th:only-of-type {\n",
       "        vertical-align: middle;\n",
       "    }\n",
       "\n",
       "    .dataframe tbody tr th {\n",
       "        vertical-align: top;\n",
       "    }\n",
       "\n",
       "    .dataframe thead th {\n",
       "        text-align: right;\n",
       "    }\n",
       "</style>\n",
       "<table border=\"1\" class=\"dataframe\">\n",
       "  <thead>\n",
       "    <tr style=\"text-align: right;\">\n",
       "      <th></th>\n",
       "      <th>Name</th>\n",
       "      <th>Age</th>\n",
       "      <th>Grade</th>\n",
       "      <th>City</th>\n",
       "      <th>Gender</th>\n",
       "      <th>Salary</th>\n",
       "    </tr>\n",
       "  </thead>\n",
       "  <tbody>\n",
       "    <tr>\n",
       "      <th>0</th>\n",
       "      <td>Albert</td>\n",
       "      <td>55</td>\n",
       "      <td>10</td>\n",
       "      <td>Bilaspur</td>\n",
       "      <td>Male</td>\n",
       "      <td>50000.0</td>\n",
       "    </tr>\n",
       "    <tr>\n",
       "      <th>1</th>\n",
       "      <td>Arjun</td>\n",
       "      <td>45</td>\n",
       "      <td>9</td>\n",
       "      <td>New Delhi</td>\n",
       "      <td>Male</td>\n",
       "      <td>45000.0</td>\n",
       "    </tr>\n",
       "    <tr>\n",
       "      <th>2</th>\n",
       "      <td>laukik</td>\n",
       "      <td>50</td>\n",
       "      <td>10</td>\n",
       "      <td>Pune</td>\n",
       "      <td>Male</td>\n",
       "      <td>60000.0</td>\n",
       "    </tr>\n",
       "    <tr>\n",
       "      <th>3</th>\n",
       "      <td>Abhimanyu</td>\n",
       "      <td>60</td>\n",
       "      <td>9</td>\n",
       "      <td>Jaipur</td>\n",
       "      <td>Male</td>\n",
       "      <td>45000.0</td>\n",
       "    </tr>\n",
       "    <tr>\n",
       "      <th>4</th>\n",
       "      <td>Maharishi</td>\n",
       "      <td>40</td>\n",
       "      <td>10</td>\n",
       "      <td>Bhopal</td>\n",
       "      <td>Male</td>\n",
       "      <td>25000.0</td>\n",
       "    </tr>\n",
       "  </tbody>\n",
       "</table>\n",
       "</div>"
      ],
      "text/plain": [
       "        Name  Age  Grade       City Gender   Salary\n",
       "0     Albert   55     10   Bilaspur   Male  50000.0\n",
       "1      Arjun   45      9  New Delhi   Male  45000.0\n",
       "2     laukik   50     10       Pune   Male  60000.0\n",
       "3  Abhimanyu   60      9     Jaipur   Male  45000.0\n",
       "4  Maharishi   40     10     Bhopal   Male  25000.0"
      ]
     },
     "execution_count": 24,
     "metadata": {},
     "output_type": "execute_result"
    }
   ],
   "source": [
    "df.head()"
   ]
  },
  {
   "cell_type": "markdown",
   "id": "173d7b6c",
   "metadata": {},
   "source": [
    "## Question 3:\n",
    "Use a DataFrame containing sales data with columns 'Product', 'Category', and 'Sales'. Group the data\n",
    "by 'Category' and calculate the total sales for each category. Determine the category with the highest average sales.\n",
    "Provide the code and explain the steps"
   ]
  },
  {
   "cell_type": "code",
   "execution_count": 25,
   "id": "fb8933b2",
   "metadata": {},
   "outputs": [
    {
     "data": {
      "text/html": [
       "<div>\n",
       "<style scoped>\n",
       "    .dataframe tbody tr th:only-of-type {\n",
       "        vertical-align: middle;\n",
       "    }\n",
       "\n",
       "    .dataframe tbody tr th {\n",
       "        vertical-align: top;\n",
       "    }\n",
       "\n",
       "    .dataframe thead th {\n",
       "        text-align: right;\n",
       "    }\n",
       "</style>\n",
       "<table border=\"1\" class=\"dataframe\">\n",
       "  <thead>\n",
       "    <tr style=\"text-align: right;\">\n",
       "      <th></th>\n",
       "      <th>Product</th>\n",
       "      <th>Category</th>\n",
       "      <th>Sales</th>\n",
       "    </tr>\n",
       "  </thead>\n",
       "  <tbody>\n",
       "    <tr>\n",
       "      <th>0</th>\n",
       "      <td>laptop</td>\n",
       "      <td>Electronics</td>\n",
       "      <td>200</td>\n",
       "    </tr>\n",
       "    <tr>\n",
       "      <th>1</th>\n",
       "      <td>phone</td>\n",
       "      <td>Electronics</td>\n",
       "      <td>400</td>\n",
       "    </tr>\n",
       "    <tr>\n",
       "      <th>2</th>\n",
       "      <td>chocolate</td>\n",
       "      <td>Food</td>\n",
       "      <td>500</td>\n",
       "    </tr>\n",
       "  </tbody>\n",
       "</table>\n",
       "</div>"
      ],
      "text/plain": [
       "     Product     Category  Sales\n",
       "0     laptop  Electronics    200\n",
       "1      phone  Electronics    400\n",
       "2  chocolate         Food    500"
      ]
     },
     "execution_count": 25,
     "metadata": {},
     "output_type": "execute_result"
    }
   ],
   "source": [
    "data_3 = {\n",
    "    'Product':['laptop','phone','chocolate'],\n",
    "    'Category':['Electronics','Electronics','Food'],\n",
    "    'Sales':[200,400,500]\n",
    "}\n",
    "\n",
    "df3 = pd.DataFrame(data_3)\n",
    "df3.head()"
   ]
  },
  {
   "cell_type": "code",
   "execution_count": 26,
   "id": "43f37dcc",
   "metadata": {},
   "outputs": [
    {
     "data": {
      "text/plain": [
       "Category\n",
       "Electronics    600\n",
       "Food           500\n",
       "Name: Sales, dtype: int64"
      ]
     },
     "execution_count": 26,
     "metadata": {},
     "output_type": "execute_result"
    }
   ],
   "source": [
    "# Group by Categories and sales for the group\n",
    "df3_1 = df3.groupby('Category')['Sales'].sum()\n",
    "df3_1.head()"
   ]
  },
  {
   "cell_type": "code",
   "execution_count": 29,
   "id": "5b9517e2",
   "metadata": {},
   "outputs": [],
   "source": [
    "# Categories with heighest average Sale\n",
    "df3_2 = df3.groupby('Category')['Sales'].mean().idxmax()"
   ]
  },
  {
   "cell_type": "code",
   "execution_count": 30,
   "id": "24030847",
   "metadata": {},
   "outputs": [
    {
     "name": "stdout",
     "output_type": "stream",
     "text": [
      "Food\n"
     ]
    }
   ],
   "source": [
    "print(df3_2)"
   ]
  },
  {
   "cell_type": "markdown",
   "id": "877e9e80",
   "metadata": {},
   "source": [
    "## Question 4:\n",
    "Plot a line graph using Matplotlib to visualize the trend of a hypothetical stock price over a period of\n",
    "30 days. Include labels for the x-axis and y-axis, a title for the plot, and customize the appearance of the line."
   ]
  },
  {
   "cell_type": "code",
   "execution_count": 49,
   "id": "5bf18d89",
   "metadata": {},
   "outputs": [],
   "source": [
    "no_days = np.arange(1,31)\n",
    "price = np.random.normal(12345,30,30).cumsum()"
   ]
  },
  {
   "cell_type": "code",
   "execution_count": 53,
   "id": "0ec5716c",
   "metadata": {},
   "outputs": [
    {
     "data": {
      "image/png": "[encoded data removed]",
      "text/plain": [
       "<Figure size 432x288 with 1 Axes>"
      ]
     },
     "metadata": {
      "needs_background": "light"
     },
     "output_type": "display_data"
    }
   ],
   "source": [
    "plt.plot(no_days, price, label='Price', color='green', linestyle='-', marker='*', markersize=2)\n",
    "plt.xlabel('Days')\n",
    "plt.ylabel('Price')\n",
    "plt.title('Stock Price for 30 Days')\n",
    "\n",
    "# Adding legends to the graph\n",
    "plt.legend()\n",
    "plt.grid(True)\n",
    "plt.show()"
   ]
  },
  {
   "cell_type": "markdown",
   "id": "0f1f2934",
   "metadata": {},
   "source": [
    "## Question 5.\n",
    "Create a scatter plot using Seaborn to show the relationship between the hours of study and exam\n",
    "scores for a group of students. Utilize different colors for points based on a categorical variable such as pass/fail.\n",
    "Provide labels and a title for the plot"
   ]
  },
  {
   "cell_type": "code",
   "execution_count": 63,
   "id": "f03603fa",
   "metadata": {},
   "outputs": [],
   "source": [
    "import seaborn as sns\n",
    "data_5={\n",
    "    'Hours_of_study':[1,2,3,4,5,6,7,8,9],\n",
    "    'Exam_scores':[10,20,30,40,30,20,10,50,90],\n",
    "    'Result':['F','T','T','T','T','T','F','T','T']\n",
    "}\n",
    "\n",
    "df5 = pd.DataFrame(data_5)"
   ]
  },
  {
   "cell_type": "code",
   "execution_count": 64,
   "id": "aa026ba9",
   "metadata": {},
   "outputs": [
    {
     "data": {
      "text/html": [
       "<div>\n",
       "<style scoped>\n",
       "    .dataframe tbody tr th:only-of-type {\n",
       "        vertical-align: middle;\n",
       "    }\n",
       "\n",
       "    .dataframe tbody tr th {\n",
       "        vertical-align: top;\n",
       "    }\n",
       "\n",
       "    .dataframe thead th {\n",
       "        text-align: right;\n",
       "    }\n",
       "</style>\n",
       "<table border=\"1\" class=\"dataframe\">\n",
       "  <thead>\n",
       "    <tr style=\"text-align: right;\">\n",
       "      <th></th>\n",
       "      <th>Hours_of_study</th>\n",
       "      <th>Exam_scores</th>\n",
       "      <th>Result</th>\n",
       "    </tr>\n",
       "  </thead>\n",
       "  <tbody>\n",
       "    <tr>\n",
       "      <th>0</th>\n",
       "      <td>1</td>\n",
       "      <td>10</td>\n",
       "      <td>F</td>\n",
       "    </tr>\n",
       "    <tr>\n",
       "      <th>1</th>\n",
       "      <td>2</td>\n",
       "      <td>20</td>\n",
       "      <td>T</td>\n",
       "    </tr>\n",
       "    <tr>\n",
       "      <th>2</th>\n",
       "      <td>3</td>\n",
       "      <td>30</td>\n",
       "      <td>T</td>\n",
       "    </tr>\n",
       "    <tr>\n",
       "      <th>3</th>\n",
       "      <td>4</td>\n",
       "      <td>40</td>\n",
       "      <td>T</td>\n",
       "    </tr>\n",
       "    <tr>\n",
       "      <th>4</th>\n",
       "      <td>5</td>\n",
       "      <td>30</td>\n",
       "      <td>T</td>\n",
       "    </tr>\n",
       "  </tbody>\n",
       "</table>\n",
       "</div>"
      ],
      "text/plain": [
       "   Hours_of_study  Exam_scores Result\n",
       "0               1           10      F\n",
       "1               2           20      T\n",
       "2               3           30      T\n",
       "3               4           40      T\n",
       "4               5           30      T"
      ]
     },
     "execution_count": 64,
     "metadata": {},
     "output_type": "execute_result"
    }
   ],
   "source": [
    "df5.head()"
   ]
  },
  {
   "cell_type": "code",
   "execution_count": 68,
   "id": "a680e102",
   "metadata": {},
   "outputs": [
    {
     "data": {
      "image/png": "[encoded data removed]",
      "text/plain": [
       "<Figure size 432x288 with 1 Axes>"
      ]
     },
     "metadata": {
      "needs_background": "light"
     },
     "output_type": "display_data"
    }
   ],
   "source": [
    "#seaborn plot\n",
    "sns.scatterplot(x='Hours_of_study', y='Exam_scores', hue='Result', data=df5, palette={'T': 'green', 'F': 'red'})\n",
    "plt.xlabel('Hours_of_study')\n",
    "plt.ylabel('Exam_scores')\n",
    "plt.title('Relationship Between Hours_of_study and Exam_scores')\n",
    "plt.show()"
   ]
  },
  {
   "cell_type": "markdown",
   "id": "9defd960",
   "metadata": {},
   "source": [
    "## Question 6.\n",
    "Generate a histogram using Matplotlib to display the distribution of ages in a given population.\n",
    "Customize the number of bins, colors, and labels for the x-axis and y-axis. Discuss any insights gained from the\n",
    "histogram"
   ]
  },
  {
   "cell_type": "code",
   "execution_count": 70,
   "id": "80260f06",
   "metadata": {},
   "outputs": [
    {
     "data": {
      "image/png": "[encoded data removed]",
      "text/plain": [
       "<Figure size 432x288 with 1 Axes>"
      ]
     },
     "metadata": {
      "needs_background": "light"
     },
     "output_type": "display_data"
    }
   ],
   "source": [
    "np.random.seed(30)\n",
    "ages = np.random.normal(45,10,1000)\n",
    "plt.hist(ages, bins=10, color='grey', edgecolor='white')\n",
    "\n",
    "# Adding labels and title\n",
    "plt.xlabel('Age')\n",
    "plt.ylabel('Frequency')\n",
    "plt.title('Distribution of Ages')\n",
    "plt.show()"
   ]
  },
  {
   "cell_type": "markdown",
   "id": "e534b47b",
   "metadata": {},
   "source": [
    "##### It's a normal distribution, where  the median age of most population is 45"
   ]
  },
  {
   "cell_type": "markdown",
   "id": "c5fb621c",
   "metadata": {},
   "source": [
    "## Question 7.\n",
    "Design a bar plot using Seaborn to compare the average scores of students in different subjects. Use\n",
    "a categorical variable for the x-axis (e.g., subjects) and display error bars to represent the variability. Include\n",
    "appropriate labels and a title."
   ]
  },
  {
   "cell_type": "code",
   "execution_count": 79,
   "id": "5d3db3e9",
   "metadata": {},
   "outputs": [],
   "source": [
    "data_7 = {\n",
    "    'subject': ['Eng_math1', 'Finance', 'Data_analysis', 'Ai','French'],\n",
    "    'avg_score': [63, 92, 49, 77, 34],\n",
    "    'std_core': [7, 2, 8, 10, 5]\n",
    "}\n",
    "\n",
    "df7 = pd.DataFrame(data_7)\n",
    "sns.set(style=\"whitegrid\")"
   ]
  },
  {
   "cell_type": "code",
   "execution_count": 80,
   "id": "79e87f1e",
   "metadata": {},
   "outputs": [
    {
     "data": {
      "image/png": "[encoded data removed]",
      "text/plain": [
       "<Figure size 720x432 with 1 Axes>"
      ]
     },
     "metadata": {},
     "output_type": "display_data"
    }
   ],
   "source": [
    "plt.figure(figsize=(10,6))\n",
    "sns.barplot(x='subject', y='avg_score', data=df7, ci='std_core', capsize=0.2, palette='plasma')\n",
    "\n",
    "# Adding labels and title\n",
    "plt.xlabel('subjects')\n",
    "plt.ylabel('avg_score')\n",
    "plt.title('Average Scores of Students in subjects with Variability')\n",
    "\n",
    "# Display the plot\n",
    "plt.show()"
   ]
  },
  {
   "cell_type": "markdown",
   "id": "681a82b5",
   "metadata": {},
   "source": [
    "## Question 8.\n",
    "Create a 2x2 grid of subplots using Matplotlib, each displaying a different aspect of a dataset (e.g.,\n",
    "line plot, scatter plot, histogram). Discuss the advantages of using subplots for presenting multiple visualizations\n",
    "in a single figure. Customize each subplot for clarity"
   ]
  },
  {
   "cell_type": "code",
   "execution_count": 85,
   "id": "8fac904b",
   "metadata": {},
   "outputs": [
    {
     "data": {
      "image/png": "[encoded data removed]",
      "text/plain": [
       "<Figure size 720x576 with 4 Axes>"
      ]
     },
     "metadata": {},
     "output_type": "display_data"
    }
   ],
   "source": [
    "np.random.seed(40)\n",
    "x = np.linspace(0, 15, 120)\n",
    "y1 = np.sin(x)\n",
    "y2 = 0.9 * x + np.random.normal(size=len(x))\n",
    "y3 = np.random.normal(loc=5, scale=2, size=100)\n",
    "\n",
    "# Create a 2x2 grid of subplots\n",
    "fig, axes = plt.subplots(nrows=2, ncols=2, figsize=(10, 8))\n",
    "\n",
    "'''Subplot 1: Line plot'''\n",
    "axes[0, 0].plot(x, y1, color='blue')\n",
    "axes[0, 0].set_title('Line Plot')\n",
    "axes[0, 0].set_xlabel('X-axis')\n",
    "axes[0, 0].set_ylabel('Y-axis')\n",
    "\n",
    "'''Subplot 2: Scatter plot'''\n",
    "axes[0, 1].scatter(x, y2, color='green', marker='o')\n",
    "axes[0, 1].set_title('Scatter Plot')\n",
    "axes[0, 1].set_xlabel('X-axis')\n",
    "axes[0, 1].set_ylabel('Y-axis')\n",
    "\n",
    "'''Subplot 3: Histogram plot'''\n",
    "axes[1, 0].hist(y3, bins=10, color='orange', edgecolor='black')\n",
    "axes[1, 0].set_title('Histogram')\n",
    "axes[1, 0].set_xlabel('Values')\n",
    "axes[1, 0].set_ylabel('Frequency')\n",
    "\n",
    "'''Subplot 4: Customization'''\n",
    "axes[1, 1].plot(x, y1, color='red', linestyle='--', label='sin(x)')\n",
    "axes[1, 1].scatter(x, y2, color='green', marker='o', label='0.9*x + noise')\n",
    "axes[1, 1].legend()\n",
    "axes[1, 1].set_title('Combined Line and Scatter Plot')\n",
    "axes[1, 1].set_xlabel('X-axis')\n",
    "axes[1, 1].set_ylabel('Y-axis')\n",
    "\n",
    "# Adjust layout to prevent overlapping\n",
    "plt.tight_layout()\n",
    "\n",
    "# Show the plots\n",
    "plt.show()"
   ]
  },
  {
   "cell_type": "markdown",
   "id": "e853a9a7",
   "metadata": {},
   "source": [
    "## Question 9.\n",
    "Create a grouped bar chart using Matplotlib to compare the performance of different categories in a\n",
    "dataset. Discuss the advantages of using a grouped bar chart for visualizing categorical data. Customize the plot\n",
    "to highlight key information"
   ]
  },
  {
   "cell_type": "code",
   "execution_count": 3,
   "id": "78f23159",
   "metadata": {},
   "outputs": [
    {
     "data": {
      "image/png": "[encoded data removed]",
      "text/plain": [
       "<Figure size 432x288 with 1 Axes>"
      ]
     },
     "metadata": {
      "needs_background": "light"
     },
     "output_type": "display_data"
    }
   ],
   "source": [
    "import matplotlib.pyplot as plt\n",
    "import numpy as np\n",
    "\n",
    "Cateogories = ['A','B','C','D','E']\n",
    "X = [10,20,30,40,50]\n",
    "Y = [15,30,45,60,75]\n",
    "\n",
    "fig, ax = plt.subplots()\n",
    "bar_width = 0.35\n",
    "\n",
    "bar_positions1 = np.arange(len(Cateogories))\n",
    "bar_positions2 = bar_positions1 + bar_width\n",
    "\n",
    "# Create grouped bar chart\n",
    "plt.bar(bar_positions1, X, width=bar_width, label='Group 1')\n",
    "plt.bar(bar_positions2, Y, width=bar_width, label='Group 2')\n",
    "\n",
    "# Customize the plot\n",
    "plt.xlabel('Categories')\n",
    "plt.ylabel('Values')\n",
    "plt.title('Performance of Different Categories')\n",
    "plt.xticks(bar_positions1 + bar_width / 2, Cateogories)\n",
    "plt.legend()\n",
    "\n",
    "# Highlight key information\n",
    "plt.annotate('Key Point 1', xy=(bar_positions1[0], X[0]), xytext=(3, 5),\n",
    "             textcoords='offset points', arrowprops=dict(facecolor='black', arrowstyle='wedge,tail_width=0.7', lw=1))\n",
    "\n",
    "plt.annotate('Key Point 2', xy=(bar_positions2[2], Y[2]), xytext=(-30, -20),\n",
    "             textcoords='offset points', arrowprops=dict(facecolor='black', arrowstyle='wedge,tail_width=0.7', lw=1))\n",
    "\n",
    "# Show the plot\n",
    "plt.show()"
   ]
  },
  {
   "cell_type": "code",
   "execution_count": 6,
   "id": "6157c1b1",
   "metadata": {},
   "outputs": [
    {
     "data": {
      "text/plain": [
       "'\\n1. Comaprison within categories \\n2. Comparison between categories\\n3. Visual appeal\\n4. Highlighting key information\\n'"
      ]
     },
     "execution_count": 6,
     "metadata": {},
     "output_type": "execute_result"
    }
   ],
   "source": [
    "#Advantages of using a grouped bar chart for visualizing categorical data:\n",
    "'''\n",
    "1. Comaprison within categories \n",
    "2. Comparison between categories\n",
    "3. Visual appeal\n",
    "4. Highlighting key information\n",
    "'''"
   ]
  },
  {
   "cell_type": "markdown",
   "id": "295b55eb",
   "metadata": {},
   "source": [
    "## Question 10. \n",
    "Create a DataFrame with columns 'Name', 'Age', 'Score', and 'Grade', extract a new DataFrame\n",
    "containing only the 'Name' and 'Score' columns. Provide the Pandas code for this operation and explain the\n",
    "significance of choosing these specific columns"
   ]
  },
  {
   "cell_type": "code",
   "execution_count": 8,
   "id": "e82c2b3a",
   "metadata": {},
   "outputs": [
    {
     "data": {
      "text/html": [
       "<div>\n",
       "<style scoped>\n",
       "    .dataframe tbody tr th:only-of-type {\n",
       "        vertical-align: middle;\n",
       "    }\n",
       "\n",
       "    .dataframe tbody tr th {\n",
       "        vertical-align: top;\n",
       "    }\n",
       "\n",
       "    .dataframe thead th {\n",
       "        text-align: right;\n",
       "    }\n",
       "</style>\n",
       "<table border=\"1\" class=\"dataframe\">\n",
       "  <thead>\n",
       "    <tr style=\"text-align: right;\">\n",
       "      <th></th>\n",
       "      <th>Name</th>\n",
       "      <th>Age</th>\n",
       "      <th>Grade</th>\n",
       "      <th>Score</th>\n",
       "    </tr>\n",
       "  </thead>\n",
       "  <tbody>\n",
       "    <tr>\n",
       "      <th>0</th>\n",
       "      <td>Albert</td>\n",
       "      <td>55</td>\n",
       "      <td>10</td>\n",
       "      <td>81</td>\n",
       "    </tr>\n",
       "    <tr>\n",
       "      <th>1</th>\n",
       "      <td>Arjun</td>\n",
       "      <td>45</td>\n",
       "      <td>9</td>\n",
       "      <td>75</td>\n",
       "    </tr>\n",
       "    <tr>\n",
       "      <th>2</th>\n",
       "      <td>laukik</td>\n",
       "      <td>50</td>\n",
       "      <td>10</td>\n",
       "      <td>85</td>\n",
       "    </tr>\n",
       "    <tr>\n",
       "      <th>3</th>\n",
       "      <td>Abhimanyu</td>\n",
       "      <td>60</td>\n",
       "      <td>9</td>\n",
       "      <td>71</td>\n",
       "    </tr>\n",
       "    <tr>\n",
       "      <th>4</th>\n",
       "      <td>Maharishi</td>\n",
       "      <td>40</td>\n",
       "      <td>10</td>\n",
       "      <td>94</td>\n",
       "    </tr>\n",
       "  </tbody>\n",
       "</table>\n",
       "</div>"
      ],
      "text/plain": [
       "        Name  Age  Grade Score\n",
       "0     Albert   55     10    81\n",
       "1      Arjun   45      9    75\n",
       "2     laukik   50     10    85\n",
       "3  Abhimanyu   60      9    71\n",
       "4  Maharishi   40     10    94"
      ]
     },
     "execution_count": 8,
     "metadata": {},
     "output_type": "execute_result"
    }
   ],
   "source": [
    "import pandas as pd\n",
    "data_10 = {\n",
    "    'Name' :['Albert','Arjun','laukik','Abhimanyu','Maharishi'],\n",
    "    'Age':[55,45,50,60,40],\n",
    "    'Grade':[10,9,10,9,10],\n",
    "    'Score':['81','75','85','71','94']\n",
    "}\n",
    "\n",
    "df10 = pd.DataFrame(data_10)\n",
    "df10.head()"
   ]
  },
  {
   "cell_type": "code",
   "execution_count": 10,
   "id": "085e9536",
   "metadata": {},
   "outputs": [
    {
     "name": "stdout",
     "output_type": "stream",
     "text": [
      "        Name Score\n",
      "0     Albert    81\n",
      "1      Arjun    75\n",
      "2     laukik    85\n",
      "3  Abhimanyu    71\n",
      "4  Maharishi    94\n"
     ]
    }
   ],
   "source": [
    "new_df10 = df10[['Name', 'Score']]\n",
    "print(new_df10)"
   ]
  },
  {
   "cell_type": "markdown",
   "id": "207004bb",
   "metadata": {},
   "source": [
    "#### The 'Name' column represents the identitity or label associated with each observation.\n",
    "#### Extracting the 'Score' column separately could be valuable when you specifically want to focus on or analyze the performance  aspect without the distraction of other information like age or grade\n"
   ]
  },
  {
   "cell_type": "markdown",
   "id": "a895f650",
   "metadata": {},
   "source": [
    "## Question 11. \n",
    "Suppose you have a DataFrame containing student information with columns 'Name', 'Age', and\n",
    "'Score'. Create a new DataFrame that includes only the rows where the 'Score' is greater than 80. Provide the\n",
    "Pandas code for this filtering operation and discuss the impact of the condition on the resulting DataFrame"
   ]
  },
  {
   "cell_type": "code",
   "execution_count": 13,
   "id": "6fcf79a5",
   "metadata": {},
   "outputs": [
    {
     "data": {
      "text/html": [
       "<div>\n",
       "<style scoped>\n",
       "    .dataframe tbody tr th:only-of-type {\n",
       "        vertical-align: middle;\n",
       "    }\n",
       "\n",
       "    .dataframe tbody tr th {\n",
       "        vertical-align: top;\n",
       "    }\n",
       "\n",
       "    .dataframe thead th {\n",
       "        text-align: right;\n",
       "    }\n",
       "</style>\n",
       "<table border=\"1\" class=\"dataframe\">\n",
       "  <thead>\n",
       "    <tr style=\"text-align: right;\">\n",
       "      <th></th>\n",
       "      <th>Name</th>\n",
       "      <th>Age</th>\n",
       "      <th>Score</th>\n",
       "    </tr>\n",
       "  </thead>\n",
       "  <tbody>\n",
       "    <tr>\n",
       "      <th>0</th>\n",
       "      <td>Albert</td>\n",
       "      <td>55</td>\n",
       "      <td>81</td>\n",
       "    </tr>\n",
       "    <tr>\n",
       "      <th>1</th>\n",
       "      <td>Arjun</td>\n",
       "      <td>45</td>\n",
       "      <td>75</td>\n",
       "    </tr>\n",
       "    <tr>\n",
       "      <th>2</th>\n",
       "      <td>laukik</td>\n",
       "      <td>50</td>\n",
       "      <td>85</td>\n",
       "    </tr>\n",
       "    <tr>\n",
       "      <th>3</th>\n",
       "      <td>Abhimanyu</td>\n",
       "      <td>60</td>\n",
       "      <td>71</td>\n",
       "    </tr>\n",
       "    <tr>\n",
       "      <th>4</th>\n",
       "      <td>Maharishi</td>\n",
       "      <td>40</td>\n",
       "      <td>94</td>\n",
       "    </tr>\n",
       "  </tbody>\n",
       "</table>\n",
       "</div>"
      ],
      "text/plain": [
       "        Name  Age  Score\n",
       "0     Albert   55     81\n",
       "1      Arjun   45     75\n",
       "2     laukik   50     85\n",
       "3  Abhimanyu   60     71\n",
       "4  Maharishi   40     94"
      ]
     },
     "execution_count": 13,
     "metadata": {},
     "output_type": "execute_result"
    }
   ],
   "source": [
    "data_11 = {\n",
    "    'Name' :['Albert','Arjun','laukik','Abhimanyu','Maharishi'],\n",
    "    'Age':[55,45,50,60,40],\n",
    "    'Score':[81,75,85,71,94]\n",
    "}\n",
    "df11 = pd.DataFrame(data_11)\n",
    "df11.head()"
   ]
  },
  {
   "cell_type": "code",
   "execution_count": 14,
   "id": "51ee2f3d",
   "metadata": {},
   "outputs": [
    {
     "data": {
      "text/html": [
       "<div>\n",
       "<style scoped>\n",
       "    .dataframe tbody tr th:only-of-type {\n",
       "        vertical-align: middle;\n",
       "    }\n",
       "\n",
       "    .dataframe tbody tr th {\n",
       "        vertical-align: top;\n",
       "    }\n",
       "\n",
       "    .dataframe thead th {\n",
       "        text-align: right;\n",
       "    }\n",
       "</style>\n",
       "<table border=\"1\" class=\"dataframe\">\n",
       "  <thead>\n",
       "    <tr style=\"text-align: right;\">\n",
       "      <th></th>\n",
       "      <th>Name</th>\n",
       "      <th>Age</th>\n",
       "      <th>Score</th>\n",
       "    </tr>\n",
       "  </thead>\n",
       "  <tbody>\n",
       "    <tr>\n",
       "      <th>0</th>\n",
       "      <td>Albert</td>\n",
       "      <td>55</td>\n",
       "      <td>81</td>\n",
       "    </tr>\n",
       "    <tr>\n",
       "      <th>2</th>\n",
       "      <td>laukik</td>\n",
       "      <td>50</td>\n",
       "      <td>85</td>\n",
       "    </tr>\n",
       "    <tr>\n",
       "      <th>4</th>\n",
       "      <td>Maharishi</td>\n",
       "      <td>40</td>\n",
       "      <td>94</td>\n",
       "    </tr>\n",
       "  </tbody>\n",
       "</table>\n",
       "</div>"
      ],
      "text/plain": [
       "        Name  Age  Score\n",
       "0     Albert   55     81\n",
       "2     laukik   50     85\n",
       "4  Maharishi   40     94"
      ]
     },
     "execution_count": 14,
     "metadata": {},
     "output_type": "execute_result"
    }
   ],
   "source": [
    "new_df11 = df11[df11['Score'] > 80]\n",
    "new_df11.head()"
   ]
  },
  {
   "cell_type": "markdown",
   "id": "81b8f1b8",
   "metadata": {},
   "source": [
    "#### 1. Reduced no. of rows, 2. Subset of Original Data, 3. Efficient Data exploration"
   ]
  },
  {
   "cell_type": "markdown",
   "id": "0338d065",
   "metadata": {},
   "source": [
    "## Question 12.\n",
    "In a DataFrame with columns 'City', 'Temperature', and 'Humidity', select rows where the 'City' is\n",
    "'Hamirpur' and the 'Temperature' is above 35 degrees. Provide the code for this conditional subsetting and explain\n",
    "how it filters the data based on the specified conditions"
   ]
  },
  {
   "cell_type": "code",
   "execution_count": 16,
   "id": "f0efbd41",
   "metadata": {
    "scrolled": true
   },
   "outputs": [
    {
     "data": {
      "text/html": [
       "<div>\n",
       "<style scoped>\n",
       "    .dataframe tbody tr th:only-of-type {\n",
       "        vertical-align: middle;\n",
       "    }\n",
       "\n",
       "    .dataframe tbody tr th {\n",
       "        vertical-align: top;\n",
       "    }\n",
       "\n",
       "    .dataframe thead th {\n",
       "        text-align: right;\n",
       "    }\n",
       "</style>\n",
       "<table border=\"1\" class=\"dataframe\">\n",
       "  <thead>\n",
       "    <tr style=\"text-align: right;\">\n",
       "      <th></th>\n",
       "      <th>City</th>\n",
       "      <th>Temprature</th>\n",
       "      <th>Humidity</th>\n",
       "    </tr>\n",
       "  </thead>\n",
       "  <tbody>\n",
       "    <tr>\n",
       "      <th>0</th>\n",
       "      <td>Hamirpur</td>\n",
       "      <td>40</td>\n",
       "      <td>81</td>\n",
       "    </tr>\n",
       "    <tr>\n",
       "      <th>1</th>\n",
       "      <td>Ghumarwin</td>\n",
       "      <td>35</td>\n",
       "      <td>75</td>\n",
       "    </tr>\n",
       "    <tr>\n",
       "      <th>2</th>\n",
       "      <td>Palampur</td>\n",
       "      <td>30</td>\n",
       "      <td>85</td>\n",
       "    </tr>\n",
       "    <tr>\n",
       "      <th>3</th>\n",
       "      <td>Una</td>\n",
       "      <td>43</td>\n",
       "      <td>71</td>\n",
       "    </tr>\n",
       "    <tr>\n",
       "      <th>4</th>\n",
       "      <td>Kullu</td>\n",
       "      <td>26</td>\n",
       "      <td>94</td>\n",
       "    </tr>\n",
       "  </tbody>\n",
       "</table>\n",
       "</div>"
      ],
      "text/plain": [
       "        City  Temprature  Humidity\n",
       "0   Hamirpur          40        81\n",
       "1  Ghumarwin          35        75\n",
       "2   Palampur          30        85\n",
       "3        Una          43        71\n",
       "4      Kullu          26        94"
      ]
     },
     "execution_count": 16,
     "metadata": {},
     "output_type": "execute_result"
    }
   ],
   "source": [
    "data_12 = {\n",
    "    'City' :['Hamirpur','Ghumarwin','Palampur','Una','Kullu'],\n",
    "    'Temprature':[40,35,30,43,26],\n",
    "    'Humidity':[81,75,85,71,94]\n",
    "}\n",
    "df12 = pd.DataFrame(data_12)\n",
    "df12.head()"
   ]
  },
  {
   "cell_type": "code",
   "execution_count": 17,
   "id": "f945d3e5",
   "metadata": {},
   "outputs": [
    {
     "data": {
      "text/html": [
       "<div>\n",
       "<style scoped>\n",
       "    .dataframe tbody tr th:only-of-type {\n",
       "        vertical-align: middle;\n",
       "    }\n",
       "\n",
       "    .dataframe tbody tr th {\n",
       "        vertical-align: top;\n",
       "    }\n",
       "\n",
       "    .dataframe thead th {\n",
       "        text-align: right;\n",
       "    }\n",
       "</style>\n",
       "<table border=\"1\" class=\"dataframe\">\n",
       "  <thead>\n",
       "    <tr style=\"text-align: right;\">\n",
       "      <th></th>\n",
       "      <th>City</th>\n",
       "      <th>Temprature</th>\n",
       "      <th>Humidity</th>\n",
       "    </tr>\n",
       "  </thead>\n",
       "  <tbody>\n",
       "    <tr>\n",
       "      <th>0</th>\n",
       "      <td>Hamirpur</td>\n",
       "      <td>40</td>\n",
       "      <td>81</td>\n",
       "    </tr>\n",
       "  </tbody>\n",
       "</table>\n",
       "</div>"
      ],
      "text/plain": [
       "       City  Temprature  Humidity\n",
       "0  Hamirpur          40        81"
      ]
     },
     "execution_count": 17,
     "metadata": {},
     "output_type": "execute_result"
    }
   ],
   "source": [
    "new_df12 = df12[(df12['City'] == 'Hamirpur') & (df12['Temprature'] > 35)]\n",
    "new_df12.head()"
   ]
  },
  {
   "cell_type": "markdown",
   "id": "78c1bd99",
   "metadata": {},
   "source": [
    "## Question 13.\n",
    "How can you geta list of Pandas Data Frame columns based on data type?"
   ]
  },
  {
   "cell_type": "code",
   "execution_count": 18,
   "id": "02d97fda",
   "metadata": {},
   "outputs": [
    {
     "data": {
      "text/html": [
       "<div>\n",
       "<style scoped>\n",
       "    .dataframe tbody tr th:only-of-type {\n",
       "        vertical-align: middle;\n",
       "    }\n",
       "\n",
       "    .dataframe tbody tr th {\n",
       "        vertical-align: top;\n",
       "    }\n",
       "\n",
       "    .dataframe thead th {\n",
       "        text-align: right;\n",
       "    }\n",
       "</style>\n",
       "<table border=\"1\" class=\"dataframe\">\n",
       "  <thead>\n",
       "    <tr style=\"text-align: right;\">\n",
       "      <th></th>\n",
       "      <th>Name</th>\n",
       "      <th>Age</th>\n",
       "      <th>Grade</th>\n",
       "      <th>Score</th>\n",
       "    </tr>\n",
       "  </thead>\n",
       "  <tbody>\n",
       "    <tr>\n",
       "      <th>0</th>\n",
       "      <td>Albert</td>\n",
       "      <td>55</td>\n",
       "      <td>10</td>\n",
       "      <td>81</td>\n",
       "    </tr>\n",
       "    <tr>\n",
       "      <th>1</th>\n",
       "      <td>Arjun</td>\n",
       "      <td>45</td>\n",
       "      <td>9</td>\n",
       "      <td>75</td>\n",
       "    </tr>\n",
       "    <tr>\n",
       "      <th>2</th>\n",
       "      <td>laukik</td>\n",
       "      <td>50</td>\n",
       "      <td>10</td>\n",
       "      <td>85</td>\n",
       "    </tr>\n",
       "    <tr>\n",
       "      <th>3</th>\n",
       "      <td>Abhimanyu</td>\n",
       "      <td>60</td>\n",
       "      <td>9</td>\n",
       "      <td>71</td>\n",
       "    </tr>\n",
       "    <tr>\n",
       "      <th>4</th>\n",
       "      <td>Maharishi</td>\n",
       "      <td>40</td>\n",
       "      <td>10</td>\n",
       "      <td>94</td>\n",
       "    </tr>\n",
       "  </tbody>\n",
       "</table>\n",
       "</div>"
      ],
      "text/plain": [
       "        Name  Age  Grade Score\n",
       "0     Albert   55     10    81\n",
       "1      Arjun   45      9    75\n",
       "2     laukik   50     10    85\n",
       "3  Abhimanyu   60      9    71\n",
       "4  Maharishi   40     10    94"
      ]
     },
     "execution_count": 18,
     "metadata": {},
     "output_type": "execute_result"
    }
   ],
   "source": [
    "data_13 = {\n",
    "    'Name' :['Albert','Arjun','laukik','Abhimanyu','Maharishi'],\n",
    "    'Age':[55,45,50,60,40],\n",
    "    'Grade':[10,9,10,9,10],\n",
    "    'Score':['81','75','85','71','94']\n",
    "}\n",
    "\n",
    "df13 = pd.DataFrame(data_13)\n",
    "df13.head()\n"
   ]
  },
  {
   "cell_type": "code",
   "execution_count": 19,
   "id": "0b60adfe",
   "metadata": {},
   "outputs": [
    {
     "name": "stdout",
     "output_type": "stream",
     "text": [
      "Numeric Columns: ['Age', 'Grade']\n",
      "Object Columns: ['Name', 'Score']\n",
      "Datetime Columns: []\n"
     ]
    }
   ],
   "source": [
    "# Get a list of columns based on data type\n",
    "numeric_columns = df13.select_dtypes(include=['int64', 'float64']).columns.tolist()\n",
    "object_columns = df13.select_dtypes(include=['object']).columns.tolist()\n",
    "datetime_columns = df13.select_dtypes(include=['datetime64']).columns.tolist()\n",
    "\n",
    "# Print the lists of columns\n",
    "print(\"Numeric Columns:\", numeric_columns)\n",
    "print(\"Object Columns:\", object_columns)\n",
    "print(\"Datetime Columns:\", datetime_columns)"
   ]
  },
  {
   "cell_type": "markdown",
   "id": "8fa5703a",
   "metadata": {},
   "source": [
    "## Question 14.\n",
    "How does the groupby() method works in Pandas?"
   ]
  },
  {
   "cell_type": "code",
   "execution_count": 23,
   "id": "6c848b2e",
   "metadata": {},
   "outputs": [
    {
     "data": {
      "text/html": [
       "<div>\n",
       "<style scoped>\n",
       "    .dataframe tbody tr th:only-of-type {\n",
       "        vertical-align: middle;\n",
       "    }\n",
       "\n",
       "    .dataframe tbody tr th {\n",
       "        vertical-align: top;\n",
       "    }\n",
       "\n",
       "    .dataframe thead th {\n",
       "        text-align: right;\n",
       "    }\n",
       "</style>\n",
       "<table border=\"1\" class=\"dataframe\">\n",
       "  <thead>\n",
       "    <tr style=\"text-align: right;\">\n",
       "      <th></th>\n",
       "      <th>Category</th>\n",
       "      <th>Value</th>\n",
       "    </tr>\n",
       "  </thead>\n",
       "  <tbody>\n",
       "    <tr>\n",
       "      <th>0</th>\n",
       "      <td>A</td>\n",
       "      <td>10</td>\n",
       "    </tr>\n",
       "    <tr>\n",
       "      <th>1</th>\n",
       "      <td>B</td>\n",
       "      <td>15</td>\n",
       "    </tr>\n",
       "    <tr>\n",
       "      <th>2</th>\n",
       "      <td>A</td>\n",
       "      <td>20</td>\n",
       "    </tr>\n",
       "    <tr>\n",
       "      <th>3</th>\n",
       "      <td>B</td>\n",
       "      <td>25</td>\n",
       "    </tr>\n",
       "    <tr>\n",
       "      <th>4</th>\n",
       "      <td>A</td>\n",
       "      <td>30</td>\n",
       "    </tr>\n",
       "    <tr>\n",
       "      <th>5</th>\n",
       "      <td>B</td>\n",
       "      <td>35</td>\n",
       "    </tr>\n",
       "  </tbody>\n",
       "</table>\n",
       "</div>"
      ],
      "text/plain": [
       "  Category  Value\n",
       "0        A     10\n",
       "1        B     15\n",
       "2        A     20\n",
       "3        B     25\n",
       "4        A     30\n",
       "5        B     35"
      ]
     },
     "execution_count": 23,
     "metadata": {},
     "output_type": "execute_result"
    }
   ],
   "source": [
    "data_14 = {\n",
    "    'Category': ['A', 'B', 'A', 'B', 'A', 'B'],\n",
    "    'Value': [10, 15, 20, 25, 30, 35]\n",
    "}\n",
    "\n",
    "df14 = pd.DataFrame(data_14)\n",
    "\n",
    "# Group by 'Category' and calculate the mean for each group\n",
    "grouped = df14.groupby('Category')\n",
    "grouped.head()"
   ]
  },
  {
   "cell_type": "code",
   "execution_count": 24,
   "id": "056319dc",
   "metadata": {},
   "outputs": [
    {
     "name": "stdout",
     "output_type": "stream",
     "text": [
      "          Value\n",
      "Category       \n",
      "A          20.0\n",
      "B          25.0\n"
     ]
    }
   ],
   "source": [
    "mean_values = grouped.mean()\n",
    "print(mean_values)"
   ]
  },
  {
   "cell_type": "markdown",
   "id": "19e4932e",
   "metadata": {},
   "source": [
    "## Question 15.\n",
    "How to check whether a Pandas DataFrame is empty?"
   ]
  },
  {
   "cell_type": "code",
   "execution_count": 25,
   "id": "8d84c72d",
   "metadata": {},
   "outputs": [
    {
     "name": "stdout",
     "output_type": "stream",
     "text": [
      "The DataFrame is not empty.\n"
     ]
    }
   ],
   "source": [
    "data_15 = {\n",
    "    'Category': ['A', 'B', 'A', 'B', 'A', 'B'],\n",
    "    'Value': [10, 15, 20, 25, 30, 35]\n",
    "}\n",
    "\n",
    "df15 = pd.DataFrame(data_15)\n",
    "if df15.empty:\n",
    "    print(\"The DataFrame is empty.\")\n",
    "else:\n",
    "    print(\"The DataFrame is not empty.\")\n"
   ]
  },
  {
   "cell_type": "markdown",
   "id": "d712f8a2",
   "metadata": {},
   "source": [
    "## Question 16.\n",
    "Write a Pandas program to select the 'name' and 'score' columns from thefollowing DataFrame.\n",
    "Sample Python dictionary data and list labels:\n",
    "exam_data = {'name': ['Anastasia', 'Dima', 'Katherine', 'James', 'Emily','Michael', 'Matthew', 'Laura', 'Kevin',\n",
    "'Jonas'],\n",
    "'score': [12.5, 9, 16.5, np.nan, 9, 20, 14.5, np.nan, 8, 19],\n",
    "'attempts': [1, 3, 2, 3, 2, 3, 1, 1, 2, 1],\n",
    "'qualify': ['yes', 'no', 'yes', 'no', 'no', 'yes', 'yes', 'no', 'no', 'yes']}\n",
    "labels = ['a', 'b', 'c', 'd', 'e', 'f', 'g', 'h', 'i', 'j']"
   ]
  },
  {
   "cell_type": "code",
   "execution_count": 26,
   "id": "32952ba4",
   "metadata": {},
   "outputs": [
    {
     "data": {
      "text/html": [
       "<div>\n",
       "<style scoped>\n",
       "    .dataframe tbody tr th:only-of-type {\n",
       "        vertical-align: middle;\n",
       "    }\n",
       "\n",
       "    .dataframe tbody tr th {\n",
       "        vertical-align: top;\n",
       "    }\n",
       "\n",
       "    .dataframe thead th {\n",
       "        text-align: right;\n",
       "    }\n",
       "</style>\n",
       "<table border=\"1\" class=\"dataframe\">\n",
       "  <thead>\n",
       "    <tr style=\"text-align: right;\">\n",
       "      <th></th>\n",
       "      <th>name</th>\n",
       "      <th>score</th>\n",
       "      <th>attempts</th>\n",
       "      <th>qualify</th>\n",
       "    </tr>\n",
       "  </thead>\n",
       "  <tbody>\n",
       "    <tr>\n",
       "      <th>a</th>\n",
       "      <td>Anastasia</td>\n",
       "      <td>12.5</td>\n",
       "      <td>1</td>\n",
       "      <td>yes</td>\n",
       "    </tr>\n",
       "    <tr>\n",
       "      <th>b</th>\n",
       "      <td>Dima</td>\n",
       "      <td>9.0</td>\n",
       "      <td>3</td>\n",
       "      <td>no</td>\n",
       "    </tr>\n",
       "    <tr>\n",
       "      <th>c</th>\n",
       "      <td>Katherine</td>\n",
       "      <td>16.5</td>\n",
       "      <td>2</td>\n",
       "      <td>yes</td>\n",
       "    </tr>\n",
       "    <tr>\n",
       "      <th>d</th>\n",
       "      <td>James</td>\n",
       "      <td>NaN</td>\n",
       "      <td>3</td>\n",
       "      <td>no</td>\n",
       "    </tr>\n",
       "    <tr>\n",
       "      <th>e</th>\n",
       "      <td>Emily</td>\n",
       "      <td>9.0</td>\n",
       "      <td>2</td>\n",
       "      <td>no</td>\n",
       "    </tr>\n",
       "  </tbody>\n",
       "</table>\n",
       "</div>"
      ],
      "text/plain": [
       "        name  score  attempts qualify\n",
       "a  Anastasia   12.5         1     yes\n",
       "b       Dima    9.0         3      no\n",
       "c  Katherine   16.5         2     yes\n",
       "d      James    NaN         3      no\n",
       "e      Emily    9.0         2      no"
      ]
     },
     "execution_count": 26,
     "metadata": {},
     "output_type": "execute_result"
    }
   ],
   "source": [
    "data_16 = {\n",
    "    'name': ['Anastasia', 'Dima', 'Katherine', 'James', 'Emily', 'Michael', 'Matthew', 'Laura', 'Kevin', 'Jonas'],\n",
    "    'score': [12.5, 9, 16.5, np.nan, 9, 20, 14.5, np.nan, 8, 19],\n",
    "    'attempts': [1, 3, 2, 3, 2, 3, 1, 1, 2, 1],\n",
    "    'qualify': ['yes', 'no', 'yes', 'no', 'no', 'yes', 'yes', 'no', 'no', 'yes']\n",
    "}\n",
    "\n",
    "labels = ['a', 'b', 'c', 'd', 'e', 'f', 'g', 'h', 'i', 'j']\n",
    "\n",
    "df16 = pd.DataFrame(data_16, index=labels)\n",
    "df16.head()"
   ]
  },
  {
   "cell_type": "code",
   "execution_count": 27,
   "id": "c8059a42",
   "metadata": {},
   "outputs": [
    {
     "data": {
      "text/html": [
       "<div>\n",
       "<style scoped>\n",
       "    .dataframe tbody tr th:only-of-type {\n",
       "        vertical-align: middle;\n",
       "    }\n",
       "\n",
       "    .dataframe tbody tr th {\n",
       "        vertical-align: top;\n",
       "    }\n",
       "\n",
       "    .dataframe thead th {\n",
       "        text-align: right;\n",
       "    }\n",
       "</style>\n",
       "<table border=\"1\" class=\"dataframe\">\n",
       "  <thead>\n",
       "    <tr style=\"text-align: right;\">\n",
       "      <th></th>\n",
       "      <th>name</th>\n",
       "      <th>score</th>\n",
       "    </tr>\n",
       "  </thead>\n",
       "  <tbody>\n",
       "    <tr>\n",
       "      <th>a</th>\n",
       "      <td>Anastasia</td>\n",
       "      <td>12.5</td>\n",
       "    </tr>\n",
       "    <tr>\n",
       "      <th>b</th>\n",
       "      <td>Dima</td>\n",
       "      <td>9.0</td>\n",
       "    </tr>\n",
       "    <tr>\n",
       "      <th>c</th>\n",
       "      <td>Katherine</td>\n",
       "      <td>16.5</td>\n",
       "    </tr>\n",
       "    <tr>\n",
       "      <th>d</th>\n",
       "      <td>James</td>\n",
       "      <td>NaN</td>\n",
       "    </tr>\n",
       "    <tr>\n",
       "      <th>e</th>\n",
       "      <td>Emily</td>\n",
       "      <td>9.0</td>\n",
       "    </tr>\n",
       "  </tbody>\n",
       "</table>\n",
       "</div>"
      ],
      "text/plain": [
       "        name  score\n",
       "a  Anastasia   12.5\n",
       "b       Dima    9.0\n",
       "c  Katherine   16.5\n",
       "d      James    NaN\n",
       "e      Emily    9.0"
      ]
     },
     "execution_count": 27,
     "metadata": {},
     "output_type": "execute_result"
    }
   ],
   "source": [
    "new_df16 = df16[['name','score']]\n",
    "new_df16.head()"
   ]
  },
  {
   "cell_type": "markdown",
   "id": "0a12a1db",
   "metadata": {},
   "source": [
    "## Question 17.\n",
    "Write a Pandas program to select the rows where the score is missing, i.e.is NaN.\n",
    "Sample Python dictionary data and list labels:\n",
    "exam_data = {'name': ['Anastasia', 'Dima', 'Katherine', 'James', 'Emily','Michael', 'Matthew', 'Laura', 'Kevin',\n",
    "'Jonas'],\n",
    "'score': [12.5, 9, 16.5, np.nan, 9, 20, 14.5, np.nan, 8, 19],\n",
    "'attempts': [1, 3, 2, 3, 2, 3, 1, 1, 2, 1],\n",
    "'qualify': ['yes', 'no', 'yes', 'no', 'no', 'yes', 'yes', 'no', 'no', 'yes']}\n",
    "labels = ['a', 'b', 'c', 'd', 'e', 'f', 'g', labels = ['a', 'b', 'c', 'd', 'e', 'f', 'g', 'h', 'i', 'j']"
   ]
  },
  {
   "cell_type": "code",
   "execution_count": 28,
   "id": "d4109f52",
   "metadata": {},
   "outputs": [
    {
     "data": {
      "text/html": [
       "<div>\n",
       "<style scoped>\n",
       "    .dataframe tbody tr th:only-of-type {\n",
       "        vertical-align: middle;\n",
       "    }\n",
       "\n",
       "    .dataframe tbody tr th {\n",
       "        vertical-align: top;\n",
       "    }\n",
       "\n",
       "    .dataframe thead th {\n",
       "        text-align: right;\n",
       "    }\n",
       "</style>\n",
       "<table border=\"1\" class=\"dataframe\">\n",
       "  <thead>\n",
       "    <tr style=\"text-align: right;\">\n",
       "      <th></th>\n",
       "      <th>name</th>\n",
       "      <th>score</th>\n",
       "      <th>attempts</th>\n",
       "      <th>qualify</th>\n",
       "    </tr>\n",
       "  </thead>\n",
       "  <tbody>\n",
       "    <tr>\n",
       "      <th>d</th>\n",
       "      <td>James</td>\n",
       "      <td>NaN</td>\n",
       "      <td>3</td>\n",
       "      <td>no</td>\n",
       "    </tr>\n",
       "    <tr>\n",
       "      <th>h</th>\n",
       "      <td>Laura</td>\n",
       "      <td>NaN</td>\n",
       "      <td>1</td>\n",
       "      <td>no</td>\n",
       "    </tr>\n",
       "  </tbody>\n",
       "</table>\n",
       "</div>"
      ],
      "text/plain": [
       "    name  score  attempts qualify\n",
       "d  James    NaN         3      no\n",
       "h  Laura    NaN         1      no"
      ]
     },
     "execution_count": 28,
     "metadata": {},
     "output_type": "execute_result"
    }
   ],
   "source": [
    "data_17 = {\n",
    "    'name': ['Anastasia', 'Dima', 'Katherine', 'James', 'Emily', 'Michael', 'Matthew', 'Laura', 'Kevin', 'Jonas'],\n",
    "    'score': [12.5, 9, 16.5, np.nan, 9, 20, 14.5, np.nan, 8, 19],\n",
    "    'attempts': [1, 3, 2, 3, 2, 3, 1, 1, 2, 1],\n",
    "    'qualify': ['yes', 'no', 'yes', 'no', 'no', 'yes', 'yes', 'no', 'no', 'yes']\n",
    "}\n",
    "\n",
    "labels = ['a', 'b', 'c', 'd', 'e', 'f', 'g', 'h', 'i', 'j']\n",
    "\n",
    "df17 = pd.DataFrame(data_17,index=labels)\n",
    "new_df17 = df17[df17['score'].isna()]\n",
    "new_df17.head()"
   ]
  },
  {
   "cell_type": "markdown",
   "id": "c1570e1f",
   "metadata": {},
   "source": [
    "#### isna() method to identify rows where the 'score' column has missing values (NaN). "
   ]
  },
  {
   "cell_type": "markdown",
   "id": "8c8f6599",
   "metadata": {},
   "source": [
    "## Question 18.\n",
    "Write a Pandas program to replace the 'qualify' column contains thevalues 'yes' and 'no' with True\n",
    "and False.\n",
    "Sample Python dictionary data and list labels:\n",
    "exam_data = {'name': ['Anastasia', 'Dima', 'Katherine', 'James', 'Emily','Michael', 'Matthew', 'Laura', 'Kevin',\n",
    "'Jonas'],\n",
    "'score': [12.5, 9, 16.5, np.nan, 9, 20, 14.5, np.nan, 8, 19],\n",
    "'attempts': [1, 3, 2, 3, 2, 3, 1, 1, 2, 1],\n",
    "'qualify': ['yes', 'no', 'yes', 'no', 'no', 'yes', 'yes', 'no', 'no', 'yes']}\n",
    "labels = ['a', 'b', 'c', 'd', 'e', 'f', 'g', 'h', 'i', 'j']"
   ]
  },
  {
   "cell_type": "code",
   "execution_count": 29,
   "id": "6f6aaed4",
   "metadata": {},
   "outputs": [
    {
     "data": {
      "text/html": [
       "<div>\n",
       "<style scoped>\n",
       "    .dataframe tbody tr th:only-of-type {\n",
       "        vertical-align: middle;\n",
       "    }\n",
       "\n",
       "    .dataframe tbody tr th {\n",
       "        vertical-align: top;\n",
       "    }\n",
       "\n",
       "    .dataframe thead th {\n",
       "        text-align: right;\n",
       "    }\n",
       "</style>\n",
       "<table border=\"1\" class=\"dataframe\">\n",
       "  <thead>\n",
       "    <tr style=\"text-align: right;\">\n",
       "      <th></th>\n",
       "      <th>name</th>\n",
       "      <th>score</th>\n",
       "      <th>attempts</th>\n",
       "      <th>qualify</th>\n",
       "    </tr>\n",
       "  </thead>\n",
       "  <tbody>\n",
       "    <tr>\n",
       "      <th>0</th>\n",
       "      <td>Anastasia</td>\n",
       "      <td>12.5</td>\n",
       "      <td>1</td>\n",
       "      <td>yes</td>\n",
       "    </tr>\n",
       "    <tr>\n",
       "      <th>1</th>\n",
       "      <td>Dima</td>\n",
       "      <td>9.0</td>\n",
       "      <td>3</td>\n",
       "      <td>no</td>\n",
       "    </tr>\n",
       "    <tr>\n",
       "      <th>2</th>\n",
       "      <td>Katherine</td>\n",
       "      <td>16.5</td>\n",
       "      <td>2</td>\n",
       "      <td>yes</td>\n",
       "    </tr>\n",
       "    <tr>\n",
       "      <th>3</th>\n",
       "      <td>James</td>\n",
       "      <td>NaN</td>\n",
       "      <td>3</td>\n",
       "      <td>no</td>\n",
       "    </tr>\n",
       "    <tr>\n",
       "      <th>4</th>\n",
       "      <td>Emily</td>\n",
       "      <td>9.0</td>\n",
       "      <td>2</td>\n",
       "      <td>no</td>\n",
       "    </tr>\n",
       "  </tbody>\n",
       "</table>\n",
       "</div>"
      ],
      "text/plain": [
       "        name  score  attempts qualify\n",
       "0  Anastasia   12.5         1     yes\n",
       "1       Dima    9.0         3      no\n",
       "2  Katherine   16.5         2     yes\n",
       "3      James    NaN         3      no\n",
       "4      Emily    9.0         2      no"
      ]
     },
     "execution_count": 29,
     "metadata": {},
     "output_type": "execute_result"
    }
   ],
   "source": [
    "data_18 = {\n",
    "    'name': ['Anastasia', 'Dima', 'Katherine', 'James', 'Emily', 'Michael', 'Matthew', 'Laura', 'Kevin', 'Jonas'],\n",
    "    'score': [12.5, 9, 16.5, np.nan, 9, 20, 14.5, np.nan, 8, 19],\n",
    "    'attempts': [1, 3, 2, 3, 2, 3, 1, 1, 2, 1],\n",
    "    'qualify': ['yes', 'no', 'yes', 'no', 'no', 'yes', 'yes', 'no', 'no', 'yes']\n",
    "}\n",
    "\n",
    "labels = ['a', 'b', 'c', 'd', 'e', 'f', 'g', 'h', 'i', 'j']\n",
    "\n",
    "df18 = pd.DataFrame(data_18)\n",
    "df18.head()"
   ]
  },
  {
   "cell_type": "code",
   "execution_count": 30,
   "id": "84f20021",
   "metadata": {},
   "outputs": [
    {
     "data": {
      "text/html": [
       "<div>\n",
       "<style scoped>\n",
       "    .dataframe tbody tr th:only-of-type {\n",
       "        vertical-align: middle;\n",
       "    }\n",
       "\n",
       "    .dataframe tbody tr th {\n",
       "        vertical-align: top;\n",
       "    }\n",
       "\n",
       "    .dataframe thead th {\n",
       "        text-align: right;\n",
       "    }\n",
       "</style>\n",
       "<table border=\"1\" class=\"dataframe\">\n",
       "  <thead>\n",
       "    <tr style=\"text-align: right;\">\n",
       "      <th></th>\n",
       "      <th>name</th>\n",
       "      <th>score</th>\n",
       "      <th>attempts</th>\n",
       "      <th>qualify</th>\n",
       "    </tr>\n",
       "  </thead>\n",
       "  <tbody>\n",
       "    <tr>\n",
       "      <th>0</th>\n",
       "      <td>Anastasia</td>\n",
       "      <td>12.5</td>\n",
       "      <td>1</td>\n",
       "      <td>True</td>\n",
       "    </tr>\n",
       "    <tr>\n",
       "      <th>1</th>\n",
       "      <td>Dima</td>\n",
       "      <td>9.0</td>\n",
       "      <td>3</td>\n",
       "      <td>False</td>\n",
       "    </tr>\n",
       "    <tr>\n",
       "      <th>2</th>\n",
       "      <td>Katherine</td>\n",
       "      <td>16.5</td>\n",
       "      <td>2</td>\n",
       "      <td>True</td>\n",
       "    </tr>\n",
       "    <tr>\n",
       "      <th>3</th>\n",
       "      <td>James</td>\n",
       "      <td>NaN</td>\n",
       "      <td>3</td>\n",
       "      <td>False</td>\n",
       "    </tr>\n",
       "    <tr>\n",
       "      <th>4</th>\n",
       "      <td>Emily</td>\n",
       "      <td>9.0</td>\n",
       "      <td>2</td>\n",
       "      <td>False</td>\n",
       "    </tr>\n",
       "  </tbody>\n",
       "</table>\n",
       "</div>"
      ],
      "text/plain": [
       "        name  score  attempts  qualify\n",
       "0  Anastasia   12.5         1     True\n",
       "1       Dima    9.0         3    False\n",
       "2  Katherine   16.5         2     True\n",
       "3      James    NaN         3    False\n",
       "4      Emily    9.0         2    False"
      ]
     },
     "execution_count": 30,
     "metadata": {},
     "output_type": "execute_result"
    }
   ],
   "source": [
    "# Replace 'yes' with True and 'no' with False in the 'qualify' column\n",
    "df18['qualify'] = df18['qualify'].map({'yes': True, 'no': False})\n",
    "df18.head()"
   ]
  },
  {
   "cell_type": "markdown",
   "id": "b7c16add",
   "metadata": {},
   "source": [
    "## Question 19.\n",
    "Different ways to iterate over rows in Pandas Dataframe"
   ]
  },
  {
   "cell_type": "code",
   "execution_count": 31,
   "id": "527a4cde",
   "metadata": {},
   "outputs": [
    {
     "data": {
      "text/html": [
       "<div>\n",
       "<style scoped>\n",
       "    .dataframe tbody tr th:only-of-type {\n",
       "        vertical-align: middle;\n",
       "    }\n",
       "\n",
       "    .dataframe tbody tr th {\n",
       "        vertical-align: top;\n",
       "    }\n",
       "\n",
       "    .dataframe thead th {\n",
       "        text-align: right;\n",
       "    }\n",
       "</style>\n",
       "<table border=\"1\" class=\"dataframe\">\n",
       "  <thead>\n",
       "    <tr style=\"text-align: right;\">\n",
       "      <th></th>\n",
       "      <th>Name</th>\n",
       "      <th>Age</th>\n",
       "      <th>Score</th>\n",
       "    </tr>\n",
       "  </thead>\n",
       "  <tbody>\n",
       "    <tr>\n",
       "      <th>0</th>\n",
       "      <td>Albert</td>\n",
       "      <td>55</td>\n",
       "      <td>81</td>\n",
       "    </tr>\n",
       "    <tr>\n",
       "      <th>1</th>\n",
       "      <td>Arjun</td>\n",
       "      <td>45</td>\n",
       "      <td>75</td>\n",
       "    </tr>\n",
       "    <tr>\n",
       "      <th>2</th>\n",
       "      <td>laukik</td>\n",
       "      <td>50</td>\n",
       "      <td>85</td>\n",
       "    </tr>\n",
       "    <tr>\n",
       "      <th>3</th>\n",
       "      <td>Abhimanyu</td>\n",
       "      <td>60</td>\n",
       "      <td>71</td>\n",
       "    </tr>\n",
       "    <tr>\n",
       "      <th>4</th>\n",
       "      <td>Maharishi</td>\n",
       "      <td>40</td>\n",
       "      <td>94</td>\n",
       "    </tr>\n",
       "  </tbody>\n",
       "</table>\n",
       "</div>"
      ],
      "text/plain": [
       "        Name  Age Score\n",
       "0     Albert   55    81\n",
       "1      Arjun   45    75\n",
       "2     laukik   50    85\n",
       "3  Abhimanyu   60    71\n",
       "4  Maharishi   40    94"
      ]
     },
     "execution_count": 31,
     "metadata": {},
     "output_type": "execute_result"
    }
   ],
   "source": [
    "data_19 = {\n",
    "    'Name' :['Albert','Arjun','laukik','Abhimanyu','Maharishi'],\n",
    "    'Age':[55,45,50,60,40],\n",
    "    'Score':['81','75','85','71','94']\n",
    "}\n",
    "df19 = pd.DataFrame(data_19)\n",
    "df19.head()"
   ]
  },
  {
   "cell_type": "code",
   "execution_count": 33,
   "id": "6c6e64fb",
   "metadata": {},
   "outputs": [
    {
     "name": "stdout",
     "output_type": "stream",
     "text": [
      "Index: 0, Name: Albert, Age: 55, Score: 81\n",
      "Index: 1, Name: Arjun, Age: 45, Score: 75\n",
      "Index: 2, Name: laukik, Age: 50, Score: 85\n",
      "Index: 3, Name: Abhimanyu, Age: 60, Score: 71\n",
      "Index: 4, Name: Maharishi, Age: 40, Score: 94\n"
     ]
    }
   ],
   "source": [
    "# Iterating over rows using iterrows()\n",
    "for index, row in df19.iterrows():\n",
    "    print(f\"Index: {index}, Name: {row['Name']}, Age: {row['Age']}, Score: {row['Score']}\")"
   ]
  },
  {
   "cell_type": "code",
   "execution_count": 34,
   "id": "7e15d32a",
   "metadata": {},
   "outputs": [
    {
     "name": "stdout",
     "output_type": "stream",
     "text": [
      "Name: Albert, Age: 55, Score: 81\n",
      "Name: Arjun, Age: 45, Score: 75\n",
      "Name: laukik, Age: 50, Score: 85\n",
      "Name: Abhimanyu, Age: 60, Score: 71\n",
      "Name: Maharishi, Age: 40, Score: 94\n"
     ]
    },
    {
     "data": {
      "text/plain": [
       "0    None\n",
       "1    None\n",
       "2    None\n",
       "3    None\n",
       "4    None\n",
       "dtype: object"
      ]
     },
     "execution_count": 34,
     "metadata": {},
     "output_type": "execute_result"
    }
   ],
   "source": [
    "# Iterating over rows using apply() with axis=1\n",
    "def process_row(row):\n",
    "    print(f\"Name: {row['Name']}, Age: {row['Age']}, Score: {row['Score']}\")\n",
    "\n",
    "df19.apply(process_row, axis=1)"
   ]
  },
  {
   "cell_type": "code",
   "execution_count": 35,
   "id": "caaae894",
   "metadata": {},
   "outputs": [
    {
     "name": "stdout",
     "output_type": "stream",
     "text": [
      "Name: Albert, Age: 55, Score: 81\n",
      "Name: Arjun, Age: 45, Score: 75\n",
      "Name: laukik, Age: 50, Score: 85\n",
      "Name: Abhimanyu, Age: 60, Score: 71\n",
      "Name: Maharishi, Age: 40, Score: 94\n"
     ]
    }
   ],
   "source": [
    "# Iterating over rows using itertuples()\n",
    "for row in df19.itertuples(index=False):\n",
    "    print(f\"Name: {row.Name}, Age: {row.Age}, Score: {row.Score}\")"
   ]
  },
  {
   "cell_type": "markdown",
   "id": "e91a1063",
   "metadata": {},
   "source": [
    "## Question 20.\n",
    "Explain the applications of Matplotlib and Seaborn libraries in Python"
   ]
  },
  {
   "cell_type": "markdown",
   "id": "5f5ba9a0",
   "metadata": {},
   "source": [
    "#### Matplotlib:\n",
    "\n",
    "Matplotlib is a versatile and widely-used 2D plotting library for Python. It provides a wide range of plotting options, from basic line plots to complex 3D visualizations.Matplotlib is a foundational library and is often used in combination with other libraries for more specialized tasks.\n",
    "Some of the key applications of Matplotlib include:\n",
    "\n",
    "Line Plots and Scatter Plots:\n",
    "    Visualizing relationships between variables using line plots and scatter plots.\n",
    "\n",
    "Bar and Histogram Charts:\n",
    "    Creating bar charts for categorical data and histograms for distribution analysis.\n",
    "\n",
    "Pie Charts:\n",
    "    Displaying proportions or percentages of a whole using pie charts.\n",
    "\n",
    "Box Plots and Violin Plots:\n",
    "    Visualizing the distribution of data and detecting outliers.\n",
    "\n",
    "3D Plots:\n",
    "    Creating 3D visualizations for complex data structures.\n",
    "\n",
    "Customizing Plots:\n",
    "    Full customization of plot aesthetics, including colors, labels, titles, and annotations.\n",
    "\n",
    "Subplots:\n",
    "    Displaying multiple plots in a single figure for comparative analysis.\n",
    "\n",
    "\n",
    "#### Seaborn:\n",
    "\n",
    "Seaborn is built on top of Matplotlib and provides a high-level interface for creating attractive and informative statistical graphics. It is particularly useful for statistical data visualization and comes with several built-in themes and color palettes.Seaborn simplifies the process of creating complex statistical visualizations and is designed to work seamlessly with Pandas DataFrames.\n",
    "\n",
    "Some applications of Seaborn include:\n",
    "\n",
    "Statistical Plots:\n",
    "      Creating statistical visualizations such as violin plots, box plots, and swarm plots that provide insights into the distribution of data.\n",
    "\n",
    "Pair Plots:\n",
    "      Visualizing pairwise relationships in a dataset, including scatter plots and histograms for each pair of variables.\n",
    "\n",
    "Heatmaps:\n",
    "     Displaying matrices of data using colors to represent values, often used for correlation matrices.\n",
    "\n",
    "Categorical Plots:\n",
    "     Creating categorical visualizations like bar plots, count plots, and point plots.\n",
    "\n",
    "Regression Plots:\n",
    "      Visualizing relationships between variables with linear regression models and confidence intervals.\n",
    "\n",
    "Time Series Plots:\n",
    "      Creating visually appealing time series plots with built-in themes.\n",
    "\n",
    "Color Palettes and Styling:\n",
    "     Access to a variety of color palettes and easy styling options for improving the aesthetics of plots.\n",
    "\n"
   ]
  },
  {
   "cell_type": "code",
   "execution_count": null,
   "id": "b55a5ea0",
   "metadata": {},
   "outputs": [],
   "source": []
  }
 ],
 "metadata": {
  "kernelspec": {
   "display_name": "Python 3 (ipykernel)",
   "language": "python",
   "name": "python3"
  },
  "language_info": {
   "codemirror_mode": {
    "name": "ipython",
    "version": 3
   },
   "file_extension": ".py",
   "mimetype": "text/x-python",
   "name": "python",
   "nbconvert_exporter": "python",
   "pygments_lexer": "ipython3",
   "version": "3.9.6"
  }
 },
 "nbformat": 4,
 "nbformat_minor": 5
}
