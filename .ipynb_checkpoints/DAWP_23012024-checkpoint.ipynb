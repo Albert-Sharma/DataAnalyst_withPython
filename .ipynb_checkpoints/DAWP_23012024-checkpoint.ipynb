{
 "cells": [
  {
   "cell_type": "code",
   "execution_count": 1,
   "id": "333a1836",
   "metadata": {},
   "outputs": [],
   "source": [
    "#scatter plot, bivariate"
   ]
  },
  {
   "cell_type": "code",
   "execution_count": 2,
   "id": "be157710",
   "metadata": {},
   "outputs": [
    {
     "data": {
      "text/plain": [
       "'\\nvizualize 3d data using sns\\n#histogram\\nIn count >: kwargs\\ncooreaaltion matrix\\ncorrealtion vs covariance\\nheat map\\npie chart\\n'"
      ]
     },
     "execution_count": 2,
     "metadata": {},
     "output_type": "execute_result"
    }
   ],
   "source": [
    "'''\n",
    "vizualize 3d data using sns\n",
    "#histogram\n",
    "In count >: kwargs\n",
    "cooreaaltion matrix\n",
    "correaltion vs covariance\n",
    "heat map\n",
    "pie chart\n",
    "error bars (#directional errors)\n",
    "plot type and API Call\n",
    "'''"
   ]
  },
  {
   "cell_type": "code",
   "execution_count": null,
   "id": "b781e58d",
   "metadata": {},
   "outputs": [],
   "source": []
  }
 ],
 "metadata": {
  "kernelspec": {
   "display_name": "Python 3 (ipykernel)",
   "language": "python",
   "name": "python3"
  },
  "language_info": {
   "codemirror_mode": {
    "name": "ipython",
    "version": 3
   },
   "file_extension": ".py",
   "mimetype": "text/x-python",
   "name": "python",
   "nbconvert_exporter": "python",
   "pygments_lexer": "ipython3",
   "version": "3.9.6"
  }
 },
 "nbformat": 4,
 "nbformat_minor": 5
}
