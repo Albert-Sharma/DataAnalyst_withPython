{
 "cells": [
  {
   "cell_type": "code",
   "execution_count": 1,
   "id": "c8f11e58",
   "metadata": {},
   "outputs": [
    {
     "data": {
      "text/plain": [
       "'exam ke quesstion\\n# Data type\\n# Bussiness understanding \\n'"
      ]
     },
     "execution_count": 1,
     "metadata": {},
     "output_type": "execute_result"
    }
   ],
   "source": [
    "'''exam ke quesstion\n",
    "# Data type\n",
    "# Bussiness understanding \n",
    "'''"
   ]
  },
  {
   "cell_type": "code",
   "execution_count": 2,
   "id": "d42ed924",
   "metadata": {},
   "outputs": [
    {
     "data": {
      "text/plain": [
       "'\\nCross section data: does not depend on time\\nTime series data: date and time matters\\nPanel/ Longitudinal data: combination of cross sectional and time series data\\n'"
      ]
     },
     "execution_count": 2,
     "metadata": {},
     "output_type": "execute_result"
    }
   ],
   "source": [
    "'''\n",
    "Cross section data: does not depend on time\n",
    "Time series data: date and time matters\n",
    "Panel/ Longitudinal data: combination of cross sectional and time series data\n",
    "'''"
   ]
  },
  {
   "cell_type": "code",
   "execution_count": 5,
   "id": "d5e9a882",
   "metadata": {},
   "outputs": [
    {
     "data": {
      "text/plain": [
       "'\\nBalanced data\\nImbalanced data: less than 30%\\nrare event: 1-2% wale\\n'"
      ]
     },
     "execution_count": 5,
     "metadata": {},
     "output_type": "execute_result"
    }
   ],
   "source": [
    "'''\n",
    "Balanced data\n",
    "Imbalanced data: less than 30%\n",
    "rare event: 1-2% wale\n",
    "'''"
   ]
  },
  {
   "cell_type": "code",
   "execution_count": 6,
   "id": "8a9efd60",
   "metadata": {},
   "outputs": [
    {
     "data": {
      "text/plain": [
       "\"\\nNormal data : balanced data\\n\\n4 categories: \\n25 30 25 20 ~ we can't say anything, need to apply algo\\n\""
      ]
     },
     "execution_count": 6,
     "metadata": {},
     "output_type": "execute_result"
    }
   ],
   "source": [
    "'''\n",
    "Normal data : balanced data\n",
    "\n",
    "4 categories: \n",
    "25 30 25 20 ~ we can't say anything, need to apply algo\n",
    "'''\n"
   ]
  },
  {
   "cell_type": "code",
   "execution_count": 9,
   "id": "dc464a4b",
   "metadata": {},
   "outputs": [
    {
     "data": {
      "text/plain": [
       "'\\nData collection\\n1. primary\\n2. secondary\\n3. version control\\n4. description\\n5.\\n6.\\n'"
      ]
     },
     "execution_count": 9,
     "metadata": {},
     "output_type": "execute_result"
    }
   ],
   "source": [
    "'''\n",
    "Data collection\n",
    "1. primary\n",
    "2. secondary\n",
    "3. version control\n",
    "4. description\n",
    "5.\n",
    "6.\n",
    "'''"
   ]
  },
  {
   "cell_type": "code",
   "execution_count": 10,
   "id": "27a938ce",
   "metadata": {},
   "outputs": [
    {
     "data": {
      "text/plain": [
       "'\\nFour errors ro be avoided during data collection\\n1. random error\\n2. systematic error\\n3. error of choosing what to measure\\n4. errors of exclusion\\n'"
      ]
     },
     "execution_count": 10,
     "metadata": {},
     "output_type": "execute_result"
    }
   ],
   "source": [
    "'''\n",
    "Four errors ro be avoided during data collection\n",
    "1. random error\n",
    "2. systematic error\n",
    "3. error of choosing what to measure\n",
    "4. errors of exclusion\n",
    "'''"
   ]
  },
  {
   "cell_type": "code",
   "execution_count": null,
   "id": "6dc8a97d",
   "metadata": {},
   "outputs": [],
   "source": [
    "# Data preparation\n",
    "'''stastics: process of collection of data,organizng, summary\n",
    "'''"
   ]
  }
 ],
 "metadata": {
  "kernelspec": {
   "display_name": "Python 3 (ipykernel)",
   "language": "python",
   "name": "python3"
  },
  "language_info": {
   "codemirror_mode": {
    "name": "ipython",
    "version": 3
   },
   "file_extension": ".py",
   "mimetype": "text/x-python",
   "name": "python",
   "nbconvert_exporter": "python",
   "pygments_lexer": "ipython3",
   "version": "3.9.6"
  }
 },
 "nbformat": 4,
 "nbformat_minor": 5
}
