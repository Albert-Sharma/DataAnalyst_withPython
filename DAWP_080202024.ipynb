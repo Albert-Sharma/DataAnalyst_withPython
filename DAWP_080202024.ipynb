{
 "cells": [
  {
   "cell_type": "code",
   "execution_count": 1,
   "id": "d10642b9",
   "metadata": {},
   "outputs": [],
   "source": [
    "#Project management methodology CRISP ML(Q)\n",
    "#4 stages of Data Mining"
   ]
  },
  {
   "cell_type": "code",
   "execution_count": 3,
   "id": "a5864c1d",
   "metadata": {},
   "outputs": [
    {
     "data": {
      "text/plain": [
       "'\\nEDA Exploratory data analysis\\n\\nDescriptive Analytics\\n'"
      ]
     },
     "execution_count": 3,
     "metadata": {},
     "output_type": "execute_result"
    }
   ],
   "source": [
    "'''\n",
    "EDA Exploratory data analysis\n",
    "\n",
    "Descriptive Analytics\n",
    "Deagonistic Analytics\n",
    "Predictive analytics\n",
    "Prescriptive analytics\n",
    "'''\n"
   ]
  },
  {
   "cell_type": "code",
   "execution_count": 4,
   "id": "913f3086",
   "metadata": {},
   "outputs": [
    {
     "data": {
      "text/plain": [
       "''"
      ]
     },
     "execution_count": 4,
     "metadata": {},
     "output_type": "execute_result"
    }
   ],
   "source": [
    "'''\n",
    "CRoss Industry Standard Proccess for Machine Learning with Quality Assurance:\n",
    "6 phase:\n",
    "\n",
    "1. Bussiness and Data understanding: Scope of application to figure out business problem\n",
    "2. Data prepartaion\n",
    "3. Model building and tuning\n",
    "4. Evaluation\n",
    "5. Model Deployment\n",
    "6. monitoring and maintenance\n",
    "\n",
    "\n",
    "'''"
   ]
  },
  {
   "cell_type": "code",
   "execution_count": 6,
   "id": "f6ad8d0e",
   "metadata": {},
   "outputs": [
    {
     "data": {
      "text/plain": [
       "'\\nData type: \\nContinuous & discrete\\nqualitatie vs quantitative\\nstructured vs semi structured vs unstructured\\nbig data vs non-big data\\ncross sectional vs time series vs longitudinal/panel data\\nbalanced vs imbalanced data/rare event\\noffline batch data vc live stream data\\n'"
      ]
     },
     "execution_count": 6,
     "metadata": {},
     "output_type": "execute_result"
    }
   ],
   "source": [
    "#Data~ someting that can be measured\n",
    "'''\n",
    "Data type: \n",
    "Continuous & discrete\n",
    "qualitative vs quantitative\n",
    "structured vs semi structured vs unstructured\n",
    "big data vs non-big data\n",
    "cross sectional vs time series vs longitudinal/panel data\n",
    "balanced vs imbalanced data/rare event\n",
    "offline batch data vc live stream data\n",
    "'''"
   ]
  },
  {
   "cell_type": "code",
   "execution_count": 7,
   "id": "fa03245f",
   "metadata": {},
   "outputs": [
    {
     "data": {
      "text/plain": [
       "'\\n# Nominal, Ordinal, Ration, interval\\n\\nflight no. is \"Nominal Data\"\\nGate no. is \"Ordinal Data\"\\ntemp is \"Interval data\" : Properties 1. Subjective 2. No absolute zero\\nRatio data properites 1. Subejctive 2. Absolute zero\\n'"
      ]
     },
     "execution_count": 7,
     "metadata": {},
     "output_type": "execute_result"
    }
   ],
   "source": [
    "'''\n",
    "# Nominal, Ordinal, Ration, interval\n",
    "\n",
    "flight no. is \"Nominal Data\"\n",
    "Gate no. is \"Ordinal Data\"\n",
    "temp is \"Interval data\" : Properties 1. Subjective 2. No absolute zero\n",
    "Ratio data properites 1. Subejctive 2. Absolute zero\n",
    "'''"
   ]
  },
  {
   "cell_type": "code",
   "execution_count": null,
   "id": "0c2ff2fe",
   "metadata": {},
   "outputs": [],
   "source": [
    "'''\n",
    "#Big data\n",
    "\n",
    "4 Vs :Volume, Velocity, Variety, Veracity\n",
    "\n",
    "'''"
   ]
  }
 ],
 "metadata": {
  "kernelspec": {
   "display_name": "Python 3 (ipykernel)",
   "language": "python",
   "name": "python3"
  },
  "language_info": {
   "codemirror_mode": {
    "name": "ipython",
    "version": 3
   },
   "file_extension": ".py",
   "mimetype": "text/x-python",
   "name": "python",
   "nbconvert_exporter": "python",
   "pygments_lexer": "ipython3",
   "version": "3.9.6"
  }
 },
 "nbformat": 4,
 "nbformat_minor": 5
}
